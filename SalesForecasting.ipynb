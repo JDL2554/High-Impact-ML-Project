{
  "nbformat": 4,
  "nbformat_minor": 0,
  "metadata": {
    "colab": {
      "provenance": []
    },
    "kernelspec": {
      "name": "python3",
      "display_name": "Python 3"
    },
    "language_info": {
      "name": "python"
    }
  },
  "cells": [
    {
      "cell_type": "code",
      "execution_count": null,
      "metadata": {
        "colab": {
          "base_uri": "https://localhost:8080/"
        },
        "id": "7scZg2irnQBp",
        "outputId": "8742072a-a0cd-49bd-ed69-7a92dfdaed50"
      },
      "outputs": [
        {
          "output_type": "stream",
          "name": "stdout",
          "text": [
            "\u001b[2K     \u001b[90m━━━━━━━━━━━━━━━━━━━━━━━━━━━━━━━━━━━━━━━━\u001b[0m \u001b[32m48.6/48.6 kB\u001b[0m \u001b[31m1.2 MB/s\u001b[0m eta \u001b[36m0:00:00\u001b[0m\n",
            "\u001b[2K     \u001b[90m━━━━━━━━━━━━━━━━━━━━━━━━━━━━━━━━━━━━━━━━\u001b[0m \u001b[32m108.3/108.3 kB\u001b[0m \u001b[31m3.9 MB/s\u001b[0m eta \u001b[36m0:00:00\u001b[0m\n",
            "\u001b[?25h  Preparing metadata (setup.py) ... \u001b[?25l\u001b[?25hdone\n",
            "\u001b[2K     \u001b[90m━━━━━━━━━━━━━━━━━━━━━━━━━━━━━━━━━━━━━━━━\u001b[0m \u001b[32m913.9/913.9 kB\u001b[0m \u001b[31m15.9 MB/s\u001b[0m eta \u001b[36m0:00:00\u001b[0m\n",
            "\u001b[?25h  Preparing metadata (setup.py) ... \u001b[?25l\u001b[?25hdone\n",
            "\u001b[2K   \u001b[90m━━━━━━━━━━━━━━━━━━━━━━━━━━━━━━━━━━━━━━━━\u001b[0m \u001b[32m167.6/167.6 kB\u001b[0m \u001b[31m5.4 MB/s\u001b[0m eta \u001b[36m0:00:00\u001b[0m\n",
            "\u001b[2K   \u001b[90m━━━━━━━━━━━━━━━━━━━━━━━━━━━━━━━━━━━━━━━━\u001b[0m \u001b[32m98.7/98.7 MB\u001b[0m \u001b[31m7.5 MB/s\u001b[0m eta \u001b[36m0:00:00\u001b[0m\n",
            "\u001b[2K   \u001b[90m━━━━━━━━━━━━━━━━━━━━━━━━━━━━━━━━━━━━━━━━\u001b[0m \u001b[32m1.7/1.7 MB\u001b[0m \u001b[31m48.7 MB/s\u001b[0m eta \u001b[36m0:00:00\u001b[0m\n",
            "\u001b[2K   \u001b[90m━━━━━━━━━━━━━━━━━━━━━━━━━━━━━━━━━━━━━━━━\u001b[0m \u001b[32m139.8/139.8 kB\u001b[0m \u001b[31m6.4 MB/s\u001b[0m eta \u001b[36m0:00:00\u001b[0m\n",
            "\u001b[2K   \u001b[90m━━━━━━━━━━━━━━━━━━━━━━━━━━━━━━━━━━━━━━━━\u001b[0m \u001b[32m162.6/162.6 kB\u001b[0m \u001b[31m7.9 MB/s\u001b[0m eta \u001b[36m0:00:00\u001b[0m\n",
            "\u001b[2K   \u001b[90m━━━━━━━━━━━━━━━━━━━━━━━━━━━━━━━━━━━━━━━━\u001b[0m \u001b[32m2.4/2.4 MB\u001b[0m \u001b[31m57.8 MB/s\u001b[0m eta \u001b[36m0:00:00\u001b[0m\n",
            "\u001b[2K   \u001b[90m━━━━━━━━━━━━━━━━━━━━━━━━━━━━━━━━━━━━━━━━\u001b[0m \u001b[32m447.0/447.0 kB\u001b[0m \u001b[31m22.8 MB/s\u001b[0m eta \u001b[36m0:00:00\u001b[0m\n",
            "\u001b[2K   \u001b[90m━━━━━━━━━━━━━━━━━━━━━━━━━━━━━━━━━━━━━━━━\u001b[0m \u001b[32m109.4/109.4 kB\u001b[0m \u001b[31m6.1 MB/s\u001b[0m eta \u001b[36m0:00:00\u001b[0m\n",
            "\u001b[2K   \u001b[90m━━━━━━━━━━━━━━━━━━━━━━━━━━━━━━━━━━━━━━━━\u001b[0m \u001b[32m294.5/294.5 kB\u001b[0m \u001b[31m16.6 MB/s\u001b[0m eta \u001b[36m0:00:00\u001b[0m\n",
            "\u001b[2K   \u001b[90m━━━━━━━━━━━━━━━━━━━━━━━━━━━━━━━━━━━━━━━━\u001b[0m \u001b[32m3.1/3.1 MB\u001b[0m \u001b[31m65.3 MB/s\u001b[0m eta \u001b[36m0:00:00\u001b[0m\n",
            "\u001b[2K   \u001b[90m━━━━━━━━━━━━━━━━━━━━━━━━━━━━━━━━━━━━━━━━\u001b[0m \u001b[32m2.8/2.8 MB\u001b[0m \u001b[31m65.1 MB/s\u001b[0m eta \u001b[36m0:00:00\u001b[0m\n",
            "\u001b[2K   \u001b[90m━━━━━━━━━━━━━━━━━━━━━━━━━━━━━━━━━━━━━━━━\u001b[0m \u001b[32m2.3/2.3 MB\u001b[0m \u001b[31m49.7 MB/s\u001b[0m eta \u001b[36m0:00:00\u001b[0m\n",
            "\u001b[2K   \u001b[90m━━━━━━━━━━━━━━━━━━━━━━━━━━━━━━━━━━━━━━━━\u001b[0m \u001b[32m105.0/105.0 kB\u001b[0m \u001b[31m6.5 MB/s\u001b[0m eta \u001b[36m0:00:00\u001b[0m\n",
            "\u001b[2K   \u001b[90m━━━━━━━━━━━━━━━━━━━━━━━━━━━━━━━━━━━━━━━━\u001b[0m \u001b[32m1.6/1.6 MB\u001b[0m \u001b[31m34.0 MB/s\u001b[0m eta \u001b[36m0:00:00\u001b[0m\n",
            "\u001b[2K   \u001b[90m━━━━━━━━━━━━━━━━━━━━━━━━━━━━━━━━━━━━━━━━\u001b[0m \u001b[32m194.6/194.6 kB\u001b[0m \u001b[31m9.5 MB/s\u001b[0m eta \u001b[36m0:00:00\u001b[0m\n",
            "\u001b[2K   \u001b[90m━━━━━━━━━━━━━━━━━━━━━━━━━━━━━━━━━━━━━━━━\u001b[0m \u001b[32m45.7/45.7 kB\u001b[0m \u001b[31m2.3 MB/s\u001b[0m eta \u001b[36m0:00:00\u001b[0m\n",
            "\u001b[?25h  Building wheel for xhtml2pdf (setup.py) ... \u001b[?25l\u001b[?25hdone\n",
            "  Building wheel for svglib (setup.py) ... \u001b[?25l\u001b[?25hdone\n"
          ]
        }
      ],
      "source": [
        "%pip install -Uq upgini catboost"
      ]
    },
    {
      "cell_type": "code",
      "source": [
        "from os.path import exists\n",
        "import pandas as pd\n",
        "\n",
        "df_path = \"train.csv.zip\" if exists(\"train.csv.zip\") else \"https://github.com/upgini/upgini/raw/main/notebooks/train.csv.zip\"\n",
        "df = pd.read_csv(df_path)\n",
        "df = df.sample(n=19_000, random_state=0)\n",
        "df[\"store\"] = df[\"store\"].astype(str)\n",
        "df[\"item\"] = df[\"item\"].astype(str)\n",
        "\n",
        "df[\"date\"] = pd.to_datetime(df[\"date\"])\n",
        "df.sort_values(\"date\", inplace=True)\n",
        "df.reset_index(inplace=True, drop=True)\n",
        "df.head()"
      ],
      "metadata": {
        "colab": {
          "base_uri": "https://localhost:8080/",
          "height": 206
        },
        "id": "P1GxMxZcnk1f",
        "outputId": "0852a686-e705-4b6b-eec4-b63df4371a6e"
      },
      "execution_count": null,
      "outputs": [
        {
          "output_type": "execute_result",
          "data": {
            "text/plain": [
              "        date store item  sales\n",
              "0 2013-01-01     7    5      5\n",
              "1 2013-01-01     4    9     19\n",
              "2 2013-01-01     1   33     37\n",
              "3 2013-01-01     3   41     14\n",
              "4 2013-01-01     5   24     26"
            ],
            "text/html": [
              "\n",
              "  <div id=\"df-4009810d-ef33-4938-bbf8-93ac086b8dcb\" class=\"colab-df-container\">\n",
              "    <div>\n",
              "<style scoped>\n",
              "    .dataframe tbody tr th:only-of-type {\n",
              "        vertical-align: middle;\n",
              "    }\n",
              "\n",
              "    .dataframe tbody tr th {\n",
              "        vertical-align: top;\n",
              "    }\n",
              "\n",
              "    .dataframe thead th {\n",
              "        text-align: right;\n",
              "    }\n",
              "</style>\n",
              "<table border=\"1\" class=\"dataframe\">\n",
              "  <thead>\n",
              "    <tr style=\"text-align: right;\">\n",
              "      <th></th>\n",
              "      <th>date</th>\n",
              "      <th>store</th>\n",
              "      <th>item</th>\n",
              "      <th>sales</th>\n",
              "    </tr>\n",
              "  </thead>\n",
              "  <tbody>\n",
              "    <tr>\n",
              "      <th>0</th>\n",
              "      <td>2013-01-01</td>\n",
              "      <td>7</td>\n",
              "      <td>5</td>\n",
              "      <td>5</td>\n",
              "    </tr>\n",
              "    <tr>\n",
              "      <th>1</th>\n",
              "      <td>2013-01-01</td>\n",
              "      <td>4</td>\n",
              "      <td>9</td>\n",
              "      <td>19</td>\n",
              "    </tr>\n",
              "    <tr>\n",
              "      <th>2</th>\n",
              "      <td>2013-01-01</td>\n",
              "      <td>1</td>\n",
              "      <td>33</td>\n",
              "      <td>37</td>\n",
              "    </tr>\n",
              "    <tr>\n",
              "      <th>3</th>\n",
              "      <td>2013-01-01</td>\n",
              "      <td>3</td>\n",
              "      <td>41</td>\n",
              "      <td>14</td>\n",
              "    </tr>\n",
              "    <tr>\n",
              "      <th>4</th>\n",
              "      <td>2013-01-01</td>\n",
              "      <td>5</td>\n",
              "      <td>24</td>\n",
              "      <td>26</td>\n",
              "    </tr>\n",
              "  </tbody>\n",
              "</table>\n",
              "</div>\n",
              "    <div class=\"colab-df-buttons\">\n",
              "\n",
              "  <div class=\"colab-df-container\">\n",
              "    <button class=\"colab-df-convert\" onclick=\"convertToInteractive('df-4009810d-ef33-4938-bbf8-93ac086b8dcb')\"\n",
              "            title=\"Convert this dataframe to an interactive table.\"\n",
              "            style=\"display:none;\">\n",
              "\n",
              "  <svg xmlns=\"http://www.w3.org/2000/svg\" height=\"24px\" viewBox=\"0 -960 960 960\">\n",
              "    <path d=\"M120-120v-720h720v720H120Zm60-500h600v-160H180v160Zm220 220h160v-160H400v160Zm0 220h160v-160H400v160ZM180-400h160v-160H180v160Zm440 0h160v-160H620v160ZM180-180h160v-160H180v160Zm440 0h160v-160H620v160Z\"/>\n",
              "  </svg>\n",
              "    </button>\n",
              "\n",
              "  <style>\n",
              "    .colab-df-container {\n",
              "      display:flex;\n",
              "      gap: 12px;\n",
              "    }\n",
              "\n",
              "    .colab-df-convert {\n",
              "      background-color: #E8F0FE;\n",
              "      border: none;\n",
              "      border-radius: 50%;\n",
              "      cursor: pointer;\n",
              "      display: none;\n",
              "      fill: #1967D2;\n",
              "      height: 32px;\n",
              "      padding: 0 0 0 0;\n",
              "      width: 32px;\n",
              "    }\n",
              "\n",
              "    .colab-df-convert:hover {\n",
              "      background-color: #E2EBFA;\n",
              "      box-shadow: 0px 1px 2px rgba(60, 64, 67, 0.3), 0px 1px 3px 1px rgba(60, 64, 67, 0.15);\n",
              "      fill: #174EA6;\n",
              "    }\n",
              "\n",
              "    .colab-df-buttons div {\n",
              "      margin-bottom: 4px;\n",
              "    }\n",
              "\n",
              "    [theme=dark] .colab-df-convert {\n",
              "      background-color: #3B4455;\n",
              "      fill: #D2E3FC;\n",
              "    }\n",
              "\n",
              "    [theme=dark] .colab-df-convert:hover {\n",
              "      background-color: #434B5C;\n",
              "      box-shadow: 0px 1px 3px 1px rgba(0, 0, 0, 0.15);\n",
              "      filter: drop-shadow(0px 1px 2px rgba(0, 0, 0, 0.3));\n",
              "      fill: #FFFFFF;\n",
              "    }\n",
              "  </style>\n",
              "\n",
              "    <script>\n",
              "      const buttonEl =\n",
              "        document.querySelector('#df-4009810d-ef33-4938-bbf8-93ac086b8dcb button.colab-df-convert');\n",
              "      buttonEl.style.display =\n",
              "        google.colab.kernel.accessAllowed ? 'block' : 'none';\n",
              "\n",
              "      async function convertToInteractive(key) {\n",
              "        const element = document.querySelector('#df-4009810d-ef33-4938-bbf8-93ac086b8dcb');\n",
              "        const dataTable =\n",
              "          await google.colab.kernel.invokeFunction('convertToInteractive',\n",
              "                                                    [key], {});\n",
              "        if (!dataTable) return;\n",
              "\n",
              "        const docLinkHtml = 'Like what you see? Visit the ' +\n",
              "          '<a target=\"_blank\" href=https://colab.research.google.com/notebooks/data_table.ipynb>data table notebook</a>'\n",
              "          + ' to learn more about interactive tables.';\n",
              "        element.innerHTML = '';\n",
              "        dataTable['output_type'] = 'display_data';\n",
              "        await google.colab.output.renderOutput(dataTable, element);\n",
              "        const docLink = document.createElement('div');\n",
              "        docLink.innerHTML = docLinkHtml;\n",
              "        element.appendChild(docLink);\n",
              "      }\n",
              "    </script>\n",
              "  </div>\n",
              "\n",
              "\n",
              "<div id=\"df-3de6b589-c26a-4af0-b46a-c1f3fd6ad990\">\n",
              "  <button class=\"colab-df-quickchart\" onclick=\"quickchart('df-3de6b589-c26a-4af0-b46a-c1f3fd6ad990')\"\n",
              "            title=\"Suggest charts\"\n",
              "            style=\"display:none;\">\n",
              "\n",
              "<svg xmlns=\"http://www.w3.org/2000/svg\" height=\"24px\"viewBox=\"0 0 24 24\"\n",
              "     width=\"24px\">\n",
              "    <g>\n",
              "        <path d=\"M19 3H5c-1.1 0-2 .9-2 2v14c0 1.1.9 2 2 2h14c1.1 0 2-.9 2-2V5c0-1.1-.9-2-2-2zM9 17H7v-7h2v7zm4 0h-2V7h2v10zm4 0h-2v-4h2v4z\"/>\n",
              "    </g>\n",
              "</svg>\n",
              "  </button>\n",
              "\n",
              "<style>\n",
              "  .colab-df-quickchart {\n",
              "      --bg-color: #E8F0FE;\n",
              "      --fill-color: #1967D2;\n",
              "      --hover-bg-color: #E2EBFA;\n",
              "      --hover-fill-color: #174EA6;\n",
              "      --disabled-fill-color: #AAA;\n",
              "      --disabled-bg-color: #DDD;\n",
              "  }\n",
              "\n",
              "  [theme=dark] .colab-df-quickchart {\n",
              "      --bg-color: #3B4455;\n",
              "      --fill-color: #D2E3FC;\n",
              "      --hover-bg-color: #434B5C;\n",
              "      --hover-fill-color: #FFFFFF;\n",
              "      --disabled-bg-color: #3B4455;\n",
              "      --disabled-fill-color: #666;\n",
              "  }\n",
              "\n",
              "  .colab-df-quickchart {\n",
              "    background-color: var(--bg-color);\n",
              "    border: none;\n",
              "    border-radius: 50%;\n",
              "    cursor: pointer;\n",
              "    display: none;\n",
              "    fill: var(--fill-color);\n",
              "    height: 32px;\n",
              "    padding: 0;\n",
              "    width: 32px;\n",
              "  }\n",
              "\n",
              "  .colab-df-quickchart:hover {\n",
              "    background-color: var(--hover-bg-color);\n",
              "    box-shadow: 0 1px 2px rgba(60, 64, 67, 0.3), 0 1px 3px 1px rgba(60, 64, 67, 0.15);\n",
              "    fill: var(--button-hover-fill-color);\n",
              "  }\n",
              "\n",
              "  .colab-df-quickchart-complete:disabled,\n",
              "  .colab-df-quickchart-complete:disabled:hover {\n",
              "    background-color: var(--disabled-bg-color);\n",
              "    fill: var(--disabled-fill-color);\n",
              "    box-shadow: none;\n",
              "  }\n",
              "\n",
              "  .colab-df-spinner {\n",
              "    border: 2px solid var(--fill-color);\n",
              "    border-color: transparent;\n",
              "    border-bottom-color: var(--fill-color);\n",
              "    animation:\n",
              "      spin 1s steps(1) infinite;\n",
              "  }\n",
              "\n",
              "  @keyframes spin {\n",
              "    0% {\n",
              "      border-color: transparent;\n",
              "      border-bottom-color: var(--fill-color);\n",
              "      border-left-color: var(--fill-color);\n",
              "    }\n",
              "    20% {\n",
              "      border-color: transparent;\n",
              "      border-left-color: var(--fill-color);\n",
              "      border-top-color: var(--fill-color);\n",
              "    }\n",
              "    30% {\n",
              "      border-color: transparent;\n",
              "      border-left-color: var(--fill-color);\n",
              "      border-top-color: var(--fill-color);\n",
              "      border-right-color: var(--fill-color);\n",
              "    }\n",
              "    40% {\n",
              "      border-color: transparent;\n",
              "      border-right-color: var(--fill-color);\n",
              "      border-top-color: var(--fill-color);\n",
              "    }\n",
              "    60% {\n",
              "      border-color: transparent;\n",
              "      border-right-color: var(--fill-color);\n",
              "    }\n",
              "    80% {\n",
              "      border-color: transparent;\n",
              "      border-right-color: var(--fill-color);\n",
              "      border-bottom-color: var(--fill-color);\n",
              "    }\n",
              "    90% {\n",
              "      border-color: transparent;\n",
              "      border-bottom-color: var(--fill-color);\n",
              "    }\n",
              "  }\n",
              "</style>\n",
              "\n",
              "  <script>\n",
              "    async function quickchart(key) {\n",
              "      const quickchartButtonEl =\n",
              "        document.querySelector('#' + key + ' button');\n",
              "      quickchartButtonEl.disabled = true;  // To prevent multiple clicks.\n",
              "      quickchartButtonEl.classList.add('colab-df-spinner');\n",
              "      try {\n",
              "        const charts = await google.colab.kernel.invokeFunction(\n",
              "            'suggestCharts', [key], {});\n",
              "      } catch (error) {\n",
              "        console.error('Error during call to suggestCharts:', error);\n",
              "      }\n",
              "      quickchartButtonEl.classList.remove('colab-df-spinner');\n",
              "      quickchartButtonEl.classList.add('colab-df-quickchart-complete');\n",
              "    }\n",
              "    (() => {\n",
              "      let quickchartButtonEl =\n",
              "        document.querySelector('#df-3de6b589-c26a-4af0-b46a-c1f3fd6ad990 button');\n",
              "      quickchartButtonEl.style.display =\n",
              "        google.colab.kernel.accessAllowed ? 'block' : 'none';\n",
              "    })();\n",
              "  </script>\n",
              "</div>\n",
              "\n",
              "    </div>\n",
              "  </div>\n"
            ],
            "application/vnd.google.colaboratory.intrinsic+json": {
              "type": "dataframe",
              "variable_name": "df",
              "summary": "{\n  \"name\": \"df\",\n  \"rows\": 19000,\n  \"fields\": [\n    {\n      \"column\": \"date\",\n      \"properties\": {\n        \"dtype\": \"date\",\n        \"min\": \"2013-01-01 00:00:00\",\n        \"max\": \"2017-12-31 00:00:00\",\n        \"num_unique_values\": 1826,\n        \"samples\": [\n          \"2015-09-26 00:00:00\",\n          \"2017-02-27 00:00:00\",\n          \"2013-10-26 00:00:00\"\n        ],\n        \"semantic_type\": \"\",\n        \"description\": \"\"\n      }\n    },\n    {\n      \"column\": \"store\",\n      \"properties\": {\n        \"dtype\": \"category\",\n        \"num_unique_values\": 10,\n        \"samples\": [\n          \"9\",\n          \"4\",\n          \"2\"\n        ],\n        \"semantic_type\": \"\",\n        \"description\": \"\"\n      }\n    },\n    {\n      \"column\": \"item\",\n      \"properties\": {\n        \"dtype\": \"category\",\n        \"num_unique_values\": 50,\n        \"samples\": [\n          \"40\",\n          \"43\",\n          \"20\"\n        ],\n        \"semantic_type\": \"\",\n        \"description\": \"\"\n      }\n    },\n    {\n      \"column\": \"sales\",\n      \"properties\": {\n        \"dtype\": \"number\",\n        \"std\": 28,\n        \"min\": 1,\n        \"max\": 205,\n        \"num_unique_values\": 173,\n        \"samples\": [\n          196,\n          63,\n          94\n        ],\n        \"semantic_type\": \"\",\n        \"description\": \"\"\n      }\n    }\n  ]\n}"
            }
          },
          "metadata": {},
          "execution_count": 6
        }
      ]
    },
    {
      "cell_type": "code",
      "source": [
        "train = df[df[\"date\"] < \"2017-01-01\"]\n",
        "test = df[df[\"date\"] >= \"2017-01-01\"]"
      ],
      "metadata": {
        "id": "N4ONJeEnnlRD"
      },
      "execution_count": null,
      "outputs": []
    },
    {
      "cell_type": "code",
      "source": [
        "train_features = train.drop(columns= [\"sales\"])\n",
        "train_target = train[\"sales\"]\n",
        "test_features = test.drop(columns= [\"sales\"])\n",
        "test_target = test[\"sales\"]"
      ],
      "metadata": {
        "id": "aShCuKS3p86l"
      },
      "execution_count": null,
      "outputs": []
    },
    {
      "cell_type": "code",
      "source": [
        "from upgini import FeaturesEnricher, SearchKey\n",
        "from upgini.metadata import CVType\n",
        "\n",
        "enricher = FeaturesEnricher(\n",
        "    search_keys= {\n",
        "        \"date\": SearchKey.DATE,\n",
        "    },\n",
        "    cv = CVType.time_series\n",
        ")\n",
        "enricher.fit(train_features,\n",
        "             train_target,\n",
        "             eval_set=[(test_features, test_target)])"
      ],
      "metadata": {
        "colab": {
          "base_uri": "https://localhost:8080/",
          "height": 1000
        },
        "id": "rBexjM0Ep9Bo",
        "outputId": "a7304f2b-e77d-4df1-e2b3-4fc6761d3dd5"
      },
      "execution_count": null,
      "outputs": [
        {
          "output_type": "display_data",
          "data": {
            "text/plain": [
              "[============================================================] 100% Finished"
            ],
            "text/html": [
              "<progress style='width:60ex' max='100' value='100'></progress>  100% Finished</br>"
            ]
          },
          "metadata": {}
        },
        {
          "output_type": "display_data",
          "data": {
            "text/plain": [
              "<IPython.core.display.Javascript object>"
            ],
            "application/javascript": [
              "\n",
              "                    async function getVisitorId() {\n",
              "                        return import('https://upgini.github.io/upgini/js/a.js')\n",
              "                            .then(FingerprintJS => FingerprintJS.load())\n",
              "                            .then(fp => fp.get())\n",
              "                            .then(result => result.visitorId);\n",
              "                    }\n",
              "                    "
            ]
          },
          "metadata": {}
        },
        {
          "output_type": "display_data",
          "data": {
            "text/plain": [
              "<IPython.core.display.Javascript object>"
            ],
            "application/javascript": [
              "\n",
              "                    async function getVisitorId() {\n",
              "                        return import('https://upgini.github.io/upgini/js/a.js')\n",
              "                            .then(FingerprintJS => FingerprintJS.load())\n",
              "                            .then(fp => fp.get())\n",
              "                            .then(result => result.visitorId);\n",
              "                    }\n",
              "                    "
            ]
          },
          "metadata": {}
        },
        {
          "output_type": "display_data",
          "data": {
            "text/plain": [
              "<IPython.core.display.Javascript object>"
            ],
            "application/javascript": [
              "\n",
              "                    async function getVisitorId() {\n",
              "                        return import('https://upgini.github.io/upgini/js/a.js')\n",
              "                            .then(FingerprintJS => FingerprintJS.load())\n",
              "                            .then(fp => fp.get())\n",
              "                            .then(result => result.visitorId);\n",
              "                    }\n",
              "                    "
            ]
          },
          "metadata": {}
        },
        {
          "output_type": "display_data",
          "data": {
            "text/plain": [
              "<IPython.core.display.Javascript object>"
            ],
            "application/javascript": [
              "\n",
              "                    async function getVisitorId() {\n",
              "                        return import('https://upgini.github.io/upgini/js/a.js')\n",
              "                            .then(FingerprintJS => FingerprintJS.load())\n",
              "                            .then(fp => fp.get())\n",
              "                            .then(result => result.visitorId);\n",
              "                    }\n",
              "                    "
            ]
          },
          "metadata": {}
        },
        {
          "output_type": "display_data",
          "data": {
            "text/plain": [
              "<IPython.core.display.Javascript object>"
            ],
            "application/javascript": [
              "\n",
              "                    async function getVisitorId() {\n",
              "                        return import('https://upgini.github.io/upgini/js/a.js')\n",
              "                            .then(FingerprintJS => FingerprintJS.load())\n",
              "                            .then(fp => fp.get())\n",
              "                            .then(result => result.visitorId);\n",
              "                    }\n",
              "                    "
            ]
          },
          "metadata": {}
        },
        {
          "output_type": "display_data",
          "data": {
            "text/plain": [
              "<IPython.core.display.Javascript object>"
            ],
            "application/javascript": [
              "\n",
              "                    async function getVisitorId() {\n",
              "                        return import('https://upgini.github.io/upgini/js/a.js')\n",
              "                            .then(FingerprintJS => FingerprintJS.load())\n",
              "                            .then(fp => fp.get())\n",
              "                            .then(result => result.visitorId);\n",
              "                    }\n",
              "                    "
            ]
          },
          "metadata": {}
        },
        {
          "output_type": "display_data",
          "data": {
            "text/plain": [
              "<IPython.core.display.Javascript object>"
            ],
            "application/javascript": [
              "\n",
              "                    async function getVisitorId() {\n",
              "                        return import('https://upgini.github.io/upgini/js/a.js')\n",
              "                            .then(FingerprintJS => FingerprintJS.load())\n",
              "                            .then(fp => fp.get())\n",
              "                            .then(result => result.visitorId);\n",
              "                    }\n",
              "                    "
            ]
          },
          "metadata": {}
        },
        {
          "output_type": "stream",
          "name": "stdout",
          "text": [
            "\n",
            "WARNING: Search started with DATE search key only\n",
            "Try to add other keys like the COUNTRY, POSTAL_CODE, PHONE NUMBER, EMAIL/HEM, IP to your training dataset\n",
            "for search through all the available data sources.\n",
            "See docs https://github.com/upgini/upgini#-total-239-countries-and-up-to-41-years-of-history\n"
          ]
        },
        {
          "output_type": "display_data",
          "data": {
            "text/plain": [
              "<IPython.core.display.Javascript object>"
            ],
            "application/javascript": [
              "\n",
              "                    async function getVisitorId() {\n",
              "                        return import('https://upgini.github.io/upgini/js/a.js')\n",
              "                            .then(FingerprintJS => FingerprintJS.load())\n",
              "                            .then(fp => fp.get())\n",
              "                            .then(result => result.visitorId);\n",
              "                    }\n",
              "                    "
            ]
          },
          "metadata": {}
        },
        {
          "output_type": "display_data",
          "data": {
            "text/plain": [
              "<IPython.core.display.Javascript object>"
            ],
            "application/javascript": [
              "\n",
              "                    async function getVisitorId() {\n",
              "                        return import('https://upgini.github.io/upgini/js/a.js')\n",
              "                            .then(FingerprintJS => FingerprintJS.load())\n",
              "                            .then(fp => fp.get())\n",
              "                            .then(result => result.visitorId);\n",
              "                    }\n",
              "                    "
            ]
          },
          "metadata": {}
        },
        {
          "output_type": "display_data",
          "data": {
            "text/plain": [
              "<IPython.core.display.Javascript object>"
            ],
            "application/javascript": [
              "\n",
              "                    async function getVisitorId() {\n",
              "                        return import('https://upgini.github.io/upgini/js/a.js')\n",
              "                            .then(FingerprintJS => FingerprintJS.load())\n",
              "                            .then(fp => fp.get())\n",
              "                            .then(result => result.visitorId);\n",
              "                    }\n",
              "                    "
            ]
          },
          "metadata": {}
        },
        {
          "output_type": "stream",
          "name": "stdout",
          "text": [
            "\n",
            "Detected task type: ModelTaskType.REGRESSION. Reason: date search key is present, treating as regression\n",
            "You can set task type manually with argument `model_task_type` of FeaturesEnricher constructor if task type detected incorrectly\n",
            "\n"
          ]
        },
        {
          "output_type": "display_data",
          "data": {
            "text/plain": [
              "<IPython.core.display.Javascript object>"
            ],
            "application/javascript": [
              "\n",
              "                    async function getVisitorId() {\n",
              "                        return import('https://upgini.github.io/upgini/js/a.js')\n",
              "                            .then(FingerprintJS => FingerprintJS.load())\n",
              "                            .then(fp => fp.get())\n",
              "                            .then(result => result.visitorId);\n",
              "                    }\n",
              "                    "
            ]
          },
          "metadata": {}
        },
        {
          "output_type": "display_data",
          "data": {
            "text/plain": [
              "<IPython.core.display.Javascript object>"
            ],
            "application/javascript": [
              "\n",
              "                    async function getVisitorId() {\n",
              "                        return import('https://upgini.github.io/upgini/js/a.js')\n",
              "                            .then(FingerprintJS => FingerprintJS.load())\n",
              "                            .then(fp => fp.get())\n",
              "                            .then(result => result.visitorId);\n",
              "                    }\n",
              "                    "
            ]
          },
          "metadata": {}
        },
        {
          "output_type": "display_data",
          "data": {
            "text/plain": [
              "<IPython.core.display.Javascript object>"
            ],
            "application/javascript": [
              "\n",
              "                    async function getVisitorId() {\n",
              "                        return import('https://upgini.github.io/upgini/js/a.js')\n",
              "                            .then(FingerprintJS => FingerprintJS.load())\n",
              "                            .then(fp => fp.get())\n",
              "                            .then(result => result.visitorId);\n",
              "                    }\n",
              "                    "
            ]
          },
          "metadata": {}
        },
        {
          "output_type": "display_data",
          "data": {
            "text/plain": [
              "<IPython.core.display.Javascript object>"
            ],
            "application/javascript": [
              "\n",
              "                    async function getVisitorId() {\n",
              "                        return import('https://upgini.github.io/upgini/js/a.js')\n",
              "                            .then(FingerprintJS => FingerprintJS.load())\n",
              "                            .then(fp => fp.get())\n",
              "                            .then(result => result.visitorId);\n",
              "                    }\n",
              "                    "
            ]
          },
          "metadata": {}
        },
        {
          "output_type": "stream",
          "name": "stdout",
          "text": [
            "\n"
          ]
        },
        {
          "output_type": "display_data",
          "data": {
            "text/plain": [
              "<IPython.core.display.HTML object>"
            ],
            "text/html": [
              "<table><tr><th style='font-weight:bold'>Column name</th><th style='font-weight:bold'>Status</th><th style='font-weight:bold'>Errors</th></tr><tr><td>target</td><td style='background-color:#DAF7A6;color:black'>All valid</td><td>-</td></tr><tr><td>date</td><td style='background-color:#DAF7A6;color:black'>All valid</td><td>-</td></tr></table>"
            ]
          },
          "metadata": {}
        },
        {
          "output_type": "display_data",
          "data": {
            "text/plain": [
              "<IPython.core.display.Javascript object>"
            ],
            "application/javascript": [
              "\n",
              "                        async function getIP() {\n",
              "                            return fetch(\"https://api64.ipify.org\")\n",
              "                                .then(response => response.text())\n",
              "                                .then(data => data);\n",
              "                        }\n",
              "                        "
            ]
          },
          "metadata": {}
        },
        {
          "output_type": "display_data",
          "data": {
            "text/plain": [
              "<IPython.core.display.Javascript object>"
            ],
            "application/javascript": [
              "\n",
              "                    async function getVisitorId() {\n",
              "                        return import('https://upgini.github.io/upgini/js/a.js')\n",
              "                            .then(FingerprintJS => FingerprintJS.load())\n",
              "                            .then(fp => fp.get())\n",
              "                            .then(result => result.visitorId);\n",
              "                    }\n",
              "                    "
            ]
          },
          "metadata": {}
        },
        {
          "output_type": "display_data",
          "data": {
            "text/plain": [
              "<IPython.core.display.Javascript object>"
            ],
            "application/javascript": [
              "\n",
              "                    async function getVisitorId() {\n",
              "                        return import('https://upgini.github.io/upgini/js/a.js')\n",
              "                            .then(FingerprintJS => FingerprintJS.load())\n",
              "                            .then(fp => fp.get())\n",
              "                            .then(result => result.visitorId);\n",
              "                    }\n",
              "                    "
            ]
          },
          "metadata": {}
        },
        {
          "output_type": "display_data",
          "data": {
            "text/plain": [
              "<IPython.core.display.Javascript object>"
            ],
            "application/javascript": [
              "\n",
              "                        async function getIP() {\n",
              "                            return fetch(\"https://api64.ipify.org\")\n",
              "                                .then(response => response.text())\n",
              "                                .then(data => data);\n",
              "                        }\n",
              "                        "
            ]
          },
          "metadata": {}
        },
        {
          "output_type": "display_data",
          "data": {
            "text/plain": [
              "<IPython.core.display.Javascript object>"
            ],
            "application/javascript": [
              "\n",
              "                        async function getIP() {\n",
              "                            return fetch(\"https://api64.ipify.org\")\n",
              "                                .then(response => response.text())\n",
              "                                .then(data => data);\n",
              "                        }\n",
              "                        "
            ]
          },
          "metadata": {}
        },
        {
          "output_type": "display_data",
          "data": {
            "text/plain": [
              "<IPython.core.display.Javascript object>"
            ],
            "application/javascript": [
              "\n",
              "                        async function getIP() {\n",
              "                            return fetch(\"https://api64.ipify.org\")\n",
              "                                .then(response => response.text())\n",
              "                                .then(data => data);\n",
              "                        }\n",
              "                        "
            ]
          },
          "metadata": {}
        },
        {
          "output_type": "display_data",
          "data": {
            "text/plain": [
              "<IPython.core.display.Javascript object>"
            ],
            "application/javascript": [
              "\n",
              "                        async function getIP() {\n",
              "                            return fetch(\"https://api64.ipify.org\")\n",
              "                                .then(response => response.text())\n",
              "                                .then(data => data);\n",
              "                        }\n",
              "                        "
            ]
          },
          "metadata": {}
        },
        {
          "output_type": "display_data",
          "data": {
            "text/plain": [
              "<IPython.core.display.Javascript object>"
            ],
            "application/javascript": [
              "\n",
              "                        async function getIP() {\n",
              "                            return fetch(\"https://api64.ipify.org\")\n",
              "                                .then(response => response.text())\n",
              "                                .then(data => data);\n",
              "                        }\n",
              "                        "
            ]
          },
          "metadata": {}
        },
        {
          "output_type": "display_data",
          "data": {
            "text/plain": [
              "<IPython.core.display.Javascript object>"
            ],
            "application/javascript": [
              "\n",
              "                        async function getIP() {\n",
              "                            return fetch(\"https://api64.ipify.org\")\n",
              "                                .then(response => response.text())\n",
              "                                .then(data => data);\n",
              "                        }\n",
              "                        "
            ]
          },
          "metadata": {}
        },
        {
          "output_type": "display_data",
          "data": {
            "text/plain": [
              "<IPython.core.display.Javascript object>"
            ],
            "application/javascript": [
              "\n",
              "                        async function getIP() {\n",
              "                            return fetch(\"https://api64.ipify.org\")\n",
              "                                .then(response => response.text())\n",
              "                                .then(data => data);\n",
              "                        }\n",
              "                        "
            ]
          },
          "metadata": {}
        },
        {
          "output_type": "display_data",
          "data": {
            "text/plain": [
              "<IPython.core.display.Javascript object>"
            ],
            "application/javascript": [
              "\n",
              "                        async function getIP() {\n",
              "                            return fetch(\"https://api64.ipify.org\")\n",
              "                                .then(response => response.text())\n",
              "                                .then(data => data);\n",
              "                        }\n",
              "                        "
            ]
          },
          "metadata": {}
        },
        {
          "output_type": "display_data",
          "data": {
            "text/plain": [
              "<IPython.core.display.Javascript object>"
            ],
            "application/javascript": [
              "\n",
              "                        async function getIP() {\n",
              "                            return fetch(\"https://api64.ipify.org\")\n",
              "                                .then(response => response.text())\n",
              "                                .then(data => data);\n",
              "                        }\n",
              "                        "
            ]
          },
          "metadata": {}
        },
        {
          "output_type": "display_data",
          "data": {
            "text/plain": [
              "<IPython.core.display.Javascript object>"
            ],
            "application/javascript": [
              "\n",
              "                        async function getIP() {\n",
              "                            return fetch(\"https://api64.ipify.org\")\n",
              "                                .then(response => response.text())\n",
              "                                .then(data => data);\n",
              "                        }\n",
              "                        "
            ]
          },
          "metadata": {}
        },
        {
          "output_type": "display_data",
          "data": {
            "text/plain": [
              "<IPython.core.display.Javascript object>"
            ],
            "application/javascript": [
              "\n",
              "                        async function getIP() {\n",
              "                            return fetch(\"https://api64.ipify.org\")\n",
              "                                .then(response => response.text())\n",
              "                                .then(data => data);\n",
              "                        }\n",
              "                        "
            ]
          },
          "metadata": {}
        },
        {
          "output_type": "display_data",
          "data": {
            "text/plain": [
              "<IPython.core.display.Javascript object>"
            ],
            "application/javascript": [
              "\n",
              "                        async function getIP() {\n",
              "                            return fetch(\"https://api64.ipify.org\")\n",
              "                                .then(response => response.text())\n",
              "                                .then(data => data);\n",
              "                        }\n",
              "                        "
            ]
          },
          "metadata": {}
        },
        {
          "output_type": "display_data",
          "data": {
            "text/plain": [
              "<IPython.core.display.Javascript object>"
            ],
            "application/javascript": [
              "\n",
              "                        async function getIP() {\n",
              "                            return fetch(\"https://api64.ipify.org\")\n",
              "                                .then(response => response.text())\n",
              "                                .then(data => data);\n",
              "                        }\n",
              "                        "
            ]
          },
          "metadata": {}
        },
        {
          "output_type": "display_data",
          "data": {
            "text/plain": [
              "<IPython.core.display.Javascript object>"
            ],
            "application/javascript": [
              "\n",
              "                        async function getIP() {\n",
              "                            return fetch(\"https://api64.ipify.org\")\n",
              "                                .then(response => response.text())\n",
              "                                .then(data => data);\n",
              "                        }\n",
              "                        "
            ]
          },
          "metadata": {}
        },
        {
          "output_type": "display_data",
          "data": {
            "text/plain": [
              "<IPython.core.display.Javascript object>"
            ],
            "application/javascript": [
              "\n",
              "                        async function getIP() {\n",
              "                            return fetch(\"https://api64.ipify.org\")\n",
              "                                .then(response => response.text())\n",
              "                                .then(data => data);\n",
              "                        }\n",
              "                        "
            ]
          },
          "metadata": {}
        },
        {
          "output_type": "stream",
          "name": "stdout",
          "text": [
            "\n",
            "Running search request, search_id=ef12239f-a552-4e08-9394-5588afb04b08\n",
            "We'll send email notification once it's completed, just use your personal api_key from profile.upgini.com\n",
            "\n",
            "\u001b[92m\u001b[1m\n",
            "45 relevant feature(s) found with the search keys: ['date']\u001b[0m\n"
          ]
        },
        {
          "output_type": "display_data",
          "data": {
            "text/plain": [
              "<IPython.core.display.HTML object>"
            ],
            "text/html": [
              "<style>\n",
              "            .upgini-df thead th {\n",
              "                font-weight:bold;\n",
              "                text-align: center;\n",
              "                padding: 0.5em;\n",
              "                border-bottom: 2px solid black;\n",
              "            }\n",
              "\n",
              "            .upgini-df tbody td {\n",
              "                padding: 0.5em;\n",
              "            }\n",
              "\n",
              "            .upgini-df tbody tr:nth-child(odd) {\n",
              "                background-color: #ffffff;\n",
              "            }\n",
              "\n",
              "            .upgini-df tbody tr:nth-child(even) {\n",
              "                background-color: #f2f2f2;\n",
              "            }\n",
              "\n",
              "            .upgini-text {\n",
              "                text-align: left;\n",
              "            }\n",
              "\n",
              "            .upgini-number {\n",
              "                text-align: center;\n",
              "            }\n",
              "        </style>\n",
              "        <h2>Relevant features</h2>\n",
              "        <div style=\"display:flex; flex-direction:column; align-items:flex-end; width: fit-content;\">\n",
              "            \n",
              "            <div style=\"text-align: right\">\n",
              "                <button onclick=navigator.clipboard.writeText(decodeURI('Feature%20name%09SHAP%20value%09Coverage%20%25%09Value%20preview%09Provider%09Source%09Updates%0Af_autofe_div_09412fe1%090.0375%09100.0%090.8523,%200.8568,%20-0.5124%09Upgini%09AutoFE%3A%20features%20from%20%3Ca%20href%3D%27https%3A%2F%2Fupgini.com%2F%23data_sources%27%20target%3D%27_blank%27%20rel%3D%27noopener%20noreferrer%27%3ECalendar%20data%3C%2Fa%3E,%3Ca%20href%3D%27https%3A%2F%2Fupgini.com%2F%23data_sources%27%20target%3D%27_blank%27%20rel%3D%27noopener%20noreferrer%27%3EMarkets%20data%3C%2Fa%3E%09Daily%0Af_autofe_div_e04998cf%090.0147%09100.0%090.7779,%201.0923,%20-0.1982%09Upgini%09AutoFE%3A%20features%20from%20%3Ca%20href%3D%27https%3A%2F%2Fupgini.com%2F%23data_sources%27%20target%3D%27_blank%27%20rel%3D%27noopener%20noreferrer%27%3ECalendar%20data%3C%2Fa%3E,%3Ca%20href%3D%27https%3A%2F%2Fupgini.com%2F%23data_sources%27%20target%3D%27_blank%27%20rel%3D%27noopener%20noreferrer%27%3EMarkets%20data%3C%2Fa%3E%09Daily%0Af_autofe_mul_3f4a1860%090.0137%09100.0%09-0.8203,%20-0.3736,%20-0.7985%09Upgini%09AutoFE%3A%20features%20from%20%3Ca%20href%3D%27https%3A%2F%2Fupgini.com%2F%23data_sources%27%20target%3D%27_blank%27%20rel%3D%27noopener%20noreferrer%27%3ECalendar%20data%3C%2Fa%3E,%3Ca%20href%3D%27https%3A%2F%2Fupgini.com%2F%23data_sources%27%20target%3D%27_blank%27%20rel%3D%27noopener%20noreferrer%27%3EMarkets%20data%3C%2Fa%3E%09Daily%0Af_autofe_mul_25296268%090.0115%09100.0%090.5839,%200.9756,%200.4969%09Upgini%09AutoFE%3A%20features%20from%20%3Ca%20href%3D%27https%3A%2F%2Fupgini.com%2F%23data_sources%27%20target%3D%27_blank%27%20rel%3D%27noopener%20noreferrer%27%3ECalendar%20data%3C%2Fa%3E,%3Ca%20href%3D%27https%3A%2F%2Fupgini.com%2F%23data_sources%27%20target%3D%27_blank%27%20rel%3D%27noopener%20noreferrer%27%3EMarkets%20data%3C%2Fa%3E%09Daily%0Af_financial_date_snp500_fdb64447%090.0103%09100.0%091592.4301,%201970.0699,%202038.26%09Upgini%09Markets%20data%09Daily%0Af_autofe_mul_0cc09d2d%090.0085%09100.0%09-98.2614,%20-4.1398,%2030.9736%09Upgini%09AutoFE%3A%20features%20from%20%3Ca%20href%3D%27https%3A%2F%2Fupgini.com%2F%23data_sources%27%20target%3D%27_blank%27%20rel%3D%27noopener%20noreferrer%27%3ECalendar%20data%3C%2Fa%3E,%3Ca%20href%3D%27https%3A%2F%2Fupgini.com%2F%23data_sources%27%20target%3D%27_blank%27%20rel%3D%27noopener%20noreferrer%27%3EMarkets%20data%3C%2Fa%3E%09Daily%0Af_autofe_div_0dcebab1%090.0075%09100.0%091.062,%201.029,%200.9751%09Upgini%09AutoFE%3A%20features%20from%20%3Ca%20href%3D%27https%3A%2F%2Fupgini.com%2F%23data_sources%27%20target%3D%27_blank%27%20rel%3D%27noopener%20noreferrer%27%3EMarkets%20data%3C%2Fa%3E%09Daily%0Af_autofe_div_3e22df83%090.0073%09100.0%090.0101,%200.0267,%200.0079%09Upgini%09AutoFE%3A%20features%20from%20%3Ca%20href%3D%27https%3A%2F%2Fupgini.com%2F%23data_sources%27%20target%3D%27_blank%27%20rel%3D%27noopener%20noreferrer%27%3ECalendar%20data%3C%2Fa%3E,%3Ca%20href%3D%27https%3A%2F%2Fupgini.com%2F%23data_sources%27%20target%3D%27_blank%27%20rel%3D%27noopener%20noreferrer%27%3EMarkets%20data%3C%2Fa%3E%09Daily%0Af_autofe_div_50a5dcaf%090.0069%09100.0%09-1.4408,%20-1.0278,%20-0.8374%09Upgini%09AutoFE%3A%20features%20from%20%3Ca%20href%3D%27https%3A%2F%2Fupgini.com%2F%23data_sources%27%20target%3D%27_blank%27%20rel%3D%27noopener%20noreferrer%27%3ECalendar%20data%3C%2Fa%3E,%3Ca%20href%3D%27https%3A%2F%2Fupgini.com%2F%23data_sources%27%20target%3D%27_blank%27%20rel%3D%27noopener%20noreferrer%27%3EMarkets%20data%3C%2Fa%3E%09Daily%0Af_autofe_div_979141a9%090.0068%09100.0%090.5585,%20-0.2207,%20-0.1955%09Upgini%09AutoFE%3A%20features%20from%20%3Ca%20href%3D%27https%3A%2F%2Fupgini.com%2F%23data_sources%27%20target%3D%27_blank%27%20rel%3D%27noopener%20noreferrer%27%3ECalendar%20data%3C%2Fa%3E,%3Ca%20href%3D%27https%3A%2F%2Fupgini.com%2F%23data_sources%27%20target%3D%27_blank%27%20rel%3D%27noopener%20noreferrer%27%3EMarkets%20data%3C%2Fa%3E%09Daily%0Af_autofe_div_ab7c3e47%090.0068%09100.0%09-0.1883,%200.9395,%20-0.1932%09Upgini%09AutoFE%3A%20features%20from%20%3Ca%20href%3D%27https%3A%2F%2Fupgini.com%2F%23data_sources%27%20target%3D%27_blank%27%20rel%3D%27noopener%20noreferrer%27%3ECalendar%20data%3C%2Fa%3E,%3Ca%20href%3D%27https%3A%2F%2Fupgini.com%2F%23data_sources%27%20target%3D%27_blank%27%20rel%3D%27noopener%20noreferrer%27%3EMarkets%20data%3C%2Fa%3E%09Daily%0Af_autofe_div_a66c2b64%090.0061%09100.0%09-0.0005,%200.0004,%200.0004%09Upgini%09AutoFE%3A%20features%20from%20%3Ca%20href%3D%27https%3A%2F%2Fupgini.com%2F%23data_sources%27%20target%3D%27_blank%27%20rel%3D%27noopener%20noreferrer%27%3ECalendar%20data%3C%2Fa%3E,%3Ca%20href%3D%27https%3A%2F%2Fupgini.com%2F%23data_sources%27%20target%3D%27_blank%27%20rel%3D%27noopener%20noreferrer%27%3EMarkets%20data%3C%2Fa%3E%09Daily%0Af_autofe_mul_7b115967%090.006%09100.0%090.6115,%200.6341,%200.4846%09Upgini%09AutoFE%3A%20features%20from%20%3Ca%20href%3D%27https%3A%2F%2Fupgini.com%2F%23data_sources%27%20target%3D%27_blank%27%20rel%3D%27noopener%20noreferrer%27%3ECalendar%20data%3C%2Fa%3E,%3Ca%20href%3D%27https%3A%2F%2Fupgini.com%2F%23data_sources%27%20target%3D%27_blank%27%20rel%3D%27noopener%20noreferrer%27%3EMarkets%20data%3C%2Fa%3E%09Daily%0Af_autofe_mul_df98a323%090.0057%09100.0%091.0171,%20-0.2147,%20-0.8969%09Upgini%09AutoFE%3A%20features%20from%20%3Ca%20href%3D%27https%3A%2F%2Fupgini.com%2F%23data_sources%27%20target%3D%27_blank%27%20rel%3D%27noopener%20noreferrer%27%3ECalendar%20data%3C%2Fa%3E,%3Ca%20href%3D%27https%3A%2F%2Fupgini.com%2F%23data_sources%27%20target%3D%27_blank%27%20rel%3D%27noopener%20noreferrer%27%3EMarkets%20data%3C%2Fa%3E%09Daily%0Af_autofe_div_0a5adf97%090.0045%09100.0%09-0.1263,%20-0.2289,%20-0.237%09Upgini%09AutoFE%3A%20features%20from%20%3Ca%20href%3D%27https%3A%2F%2Fupgini.com%2F%23data_sources%27%20target%3D%27_blank%27%20rel%3D%27noopener%20noreferrer%27%3ECalendar%20data%3C%2Fa%3E,%3Ca%20href%3D%27https%3A%2F%2Fupgini.com%2F%23data_sources%27%20target%3D%27_blank%27%20rel%3D%27noopener%20noreferrer%27%3EMarkets%20data%3C%2Fa%3E%09Daily%0Af_autofe_div_89c56a5f%090.0039%09100.0%09-1.5357,%200.72,%20-1.0796%09Upgini%09AutoFE%3A%20features%20from%20%3Ca%20href%3D%27https%3A%2F%2Fupgini.com%2F%23data_sources%27%20target%3D%27_blank%27%20rel%3D%27noopener%20noreferrer%27%3ECalendar%20data%3C%2Fa%3E,%3Ca%20href%3D%27https%3A%2F%2Fupgini.com%2F%23data_sources%27%20target%3D%27_blank%27%20rel%3D%27noopener%20noreferrer%27%3EMarkets%20data%3C%2Fa%3E%09Daily%0Af_autofe_mul_cd42199d%090.0028%09100.0%09-0.921,%20-0.5986,%20-1.9542%09Upgini%09AutoFE%3A%20features%20from%20%3Ca%20href%3D%27https%3A%2F%2Fupgini.com%2F%23data_sources%27%20target%3D%27_blank%27%20rel%3D%27noopener%20noreferrer%27%3ECalendar%20data%3C%2Fa%3E,%3Ca%20href%3D%27https%3A%2F%2Fupgini.com%2F%23data_sources%27%20target%3D%27_blank%27%20rel%3D%27noopener%20noreferrer%27%3EMarkets%20data%3C%2Fa%3E%09Daily%0Af_events_date_year_cos1_9014a856%090.002%09100.0%090.3253,%200.5124,%20-0.3008%09Upgini%09Calendar%20data%09Daily%0Af_autofe_div_cf5dd7be%090.0018%09100.0%09-0.4243,%201.053,%20-0.9088%09Upgini%09AutoFE%3A%20features%20from%20%3Ca%20href%3D%27https%3A%2F%2Fupgini.com%2F%23data_sources%27%20target%3D%27_blank%27%20rel%3D%27noopener%20noreferrer%27%3ECalendar%20data%3C%2Fa%3E,%3Ca%20href%3D%27https%3A%2F%2Fupgini.com%2F%23data_sources%27%20target%3D%27_blank%27%20rel%3D%27noopener%20noreferrer%27%3EMarkets%20data%3C%2Fa%3E%09Daily%0Af_autofe_div_b97cf188%090.0018%0985.46637744034707%09-0.2846,%201.437,%200.9241%09Upgini%09AutoFE%3A%20features%20from%20%3Ca%20href%3D%27https%3A%2F%2Fupgini.com%2F%23data_sources%27%20target%3D%27_blank%27%20rel%3D%27noopener%20noreferrer%27%3ECalendar%20data%3C%2Fa%3E%09Daily%0Af_autofe_mul_58cac651%090.0012%09100.0%09-0.9285,%20-0.5493,%200.9469%09Upgini%09AutoFE%3A%20features%20from%20%3Ca%20href%3D%27https%3A%2F%2Fupgini.com%2F%23data_sources%27%20target%3D%27_blank%27%20rel%3D%27noopener%20noreferrer%27%3ECalendar%20data%3C%2Fa%3E%09Daily%0Af_autofe_div_ba625fe9%090.0011%09100.0%09-0.546,%2014.405,%20-1.2717%09Upgini%09AutoFE%3A%20features%20from%20%3Ca%20href%3D%27https%3A%2F%2Fupgini.com%2F%23data_sources%27%20target%3D%27_blank%27%20rel%3D%27noopener%20noreferrer%27%3ECalendar%20data%3C%2Fa%3E%09Daily%0Af_autofe_mul_08e89348%090.001%09100.0%0943.5055,%2019.2861,%2042.052%09Upgini%09AutoFE%3A%20features%20from%20%3Ca%20href%3D%27https%3A%2F%2Fupgini.com%2F%23data_sources%27%20target%3D%27_blank%27%20rel%3D%27noopener%20noreferrer%27%3ECalendar%20data%3C%2Fa%3E,%3Ca%20href%3D%27https%3A%2F%2Fupgini.com%2F%23data_sources%27%20target%3D%27_blank%27%20rel%3D%27noopener%20noreferrer%27%3EMarkets%20data%3C%2Fa%3E%09Daily%0Af_autofe_mul_af6d166b%090.001%09100.0%09-0.7276,%20-1.2153,%20-0.7965%09Upgini%09AutoFE%3A%20features%20from%20%3Ca%20href%3D%27https%3A%2F%2Fupgini.com%2F%23data_sources%27%20target%3D%27_blank%27%20rel%3D%27noopener%20noreferrer%27%3ECalendar%20data%3C%2Fa%3E,%3Ca%20href%3D%27https%3A%2F%2Fupgini.com%2F%23data_sources%27%20target%3D%27_blank%27%20rel%3D%27noopener%20noreferrer%27%3EMarkets%20data%3C%2Fa%3E%09Daily%0Af_autofe_div_effd1e0b%090.001%09100.0%092541.2696,%201880.8893,%201872.236...%09Upgini%09AutoFE%3A%20features%20from%20%3Ca%20href%3D%27https%3A%2F%2Fupgini.com%2F%23data_sources%27%20target%3D%27_blank%27%20rel%3D%27noopener%20noreferrer%27%3EMarkets%20data%3C%2Fa%3E%09Daily%0Af_autofe_div_86414197%090.0009%09100.0%09-0.1857,%200.6894,%20-0.2345%09Upgini%09AutoFE%3A%20features%20from%20%3Ca%20href%3D%27https%3A%2F%2Fupgini.com%2F%23data_sources%27%20target%3D%27_blank%27%20rel%3D%27noopener%20noreferrer%27%3ECalendar%20data%3C%2Fa%3E,%3Ca%20href%3D%27https%3A%2F%2Fupgini.com%2F%23data_sources%27%20target%3D%27_blank%27%20rel%3D%27noopener%20noreferrer%27%3EMarkets%20data%3C%2Fa%3E%09Daily%0Af_autofe_div_3a59c948%090.0008%09100.0%090.6734,%200.6325,%201.0211%09Upgini%09AutoFE%3A%20features%20from%20%3Ca%20href%3D%27https%3A%2F%2Fupgini.com%2F%23data_sources%27%20target%3D%27_blank%27%20rel%3D%27noopener%20noreferrer%27%3ECalendar%20data%3C%2Fa%3E,%3Ca%20href%3D%27https%3A%2F%2Fupgini.com%2F%23data_sources%27%20target%3D%27_blank%27%20rel%3D%27noopener%20noreferrer%27%3EMarkets%20data%3C%2Fa%3E%09Daily%0Af_autofe_mul_5feff686%090.0008%09100.0%090.2568,%200.206,%20-0.003%09Upgini%09AutoFE%3A%20features%20from%20%3Ca%20href%3D%27https%3A%2F%2Fupgini.com%2F%23data_sources%27%20target%3D%27_blank%27%20rel%3D%27noopener%20noreferrer%27%3ECalendar%20data%3C%2Fa%3E%09Daily%0Af_autofe_mul_7fc70d87%090.0006%09100.0%09-0.2349,%200.0258,%20-0.1947%09Upgini%09AutoFE%3A%20features%20from%20%3Ca%20href%3D%27https%3A%2F%2Fupgini.com%2F%23data_sources%27%20target%3D%27_blank%27%20rel%3D%27noopener%20noreferrer%27%3ECalendar%20data%3C%2Fa%3E%09Daily%0Af_autofe_mul_f018fe89%090.0004%09100.0%09-0.1253,%200.2211,%20-0.8627%09Upgini%09AutoFE%3A%20features%20from%20%3Ca%20href%3D%27https%3A%2F%2Fupgini.com%2F%23data_sources%27%20target%3D%27_blank%27%20rel%3D%27noopener%20noreferrer%27%3ECalendar%20data%3C%2Fa%3E%09Daily%0Af_autofe_div_115af392%090.0003%09100.0%09350.6553,%20417.9772,%20340.5007%09Upgini%09AutoFE%3A%20features%20from%20%3Ca%20href%3D%27https%3A%2F%2Fupgini.com%2F%23data_sources%27%20target%3D%27_blank%27%20rel%3D%27noopener%20noreferrer%27%3EMarkets%20data%3C%2Fa%3E%09Daily%0Af_autofe_mul_69439562%090.0002%09100.0%09-667.0656,%20-1259.6741,%20-352.99...%09Upgini%09AutoFE%3A%20features%20from%20%3Ca%20href%3D%27https%3A%2F%2Fupgini.com%2F%23data_sources%27%20target%3D%27_blank%27%20rel%3D%27noopener%20noreferrer%27%3ECalendar%20data%3C%2Fa%3E,%3Ca%20href%3D%27https%3A%2F%2Fupgini.com%2F%23data_sources%27%20target%3D%27_blank%27%20rel%3D%27noopener%20noreferrer%27%3EMarkets%20data%3C%2Fa%3E%09Daily%0Af_autofe_mul_3a233471%090.0002%09100.0%091.1192,%200.8836,%200.8518%09Upgini%09AutoFE%3A%20features%20from%20%3Ca%20href%3D%27https%3A%2F%2Fupgini.com%2F%23data_sources%27%20target%3D%27_blank%27%20rel%3D%27noopener%20noreferrer%27%3EMarkets%20data%3C%2Fa%3E%09Daily%0Af_autofe_div_1d266053%090.0001%09100.0%09-0.192,%200.9286,%200.6045%09Upgini%09AutoFE%3A%20features%20from%20%3Ca%20href%3D%27https%3A%2F%2Fupgini.com%2F%23data_sources%27%20target%3D%27_blank%27%20rel%3D%27noopener%20noreferrer%27%3ECalendar%20data%3C%2Fa%3E,%3Ca%20href%3D%27https%3A%2F%2Fupgini.com%2F%23data_sources%27%20target%3D%27_blank%27%20rel%3D%27noopener%20noreferrer%27%3EMarkets%20data%3C%2Fa%3E%09Daily%0Af_events_date_year_sin2_59955ffd%090.0001%09100.0%090.4482,%20-0.9428,%200.1539%09Upgini%09Calendar%20data%09Daily%0Af_autofe_div_60e9ccbb%090.0001%09100.0%09-0.4176,%200.4346,%20-0.0939%09Upgini%09AutoFE%3A%20features%20from%20%3Ca%20href%3D%27https%3A%2F%2Fupgini.com%2F%23data_sources%27%20target%3D%27_blank%27%20rel%3D%27noopener%20noreferrer%27%3ECalendar%20data%3C%2Fa%3E,%3Ca%20href%3D%27https%3A%2F%2Fupgini.com%2F%23data_sources%27%20target%3D%27_blank%27%20rel%3D%27noopener%20noreferrer%27%3EMarkets%20data%3C%2Fa%3E%09Daily%0Af_autofe_div_ff73d45e%090.0001%09100.0%091.0801,%201.0749,%201.0849%09Upgini%09AutoFE%3A%20features%20from%20%3Ca%20href%3D%27https%3A%2F%2Fupgini.com%2F%23data_sources%27%20target%3D%27_blank%27%20rel%3D%27noopener%20noreferrer%27%3EMarkets%20data%3C%2Fa%3E%09Daily%0Af_autofe_mul_4c9c7d0a%090.0001%09100.0%090.7564,%200.6754,%200.9462%09Upgini%09AutoFE%3A%20features%20from%20%3Ca%20href%3D%27https%3A%2F%2Fupgini.com%2F%23data_sources%27%20target%3D%27_blank%27%20rel%3D%27noopener%20noreferrer%27%3EMarkets%20data%3C%2Fa%3E%09Daily%0Af_autofe_mul_a4d34ac2%090.0001%09100.0%090.1053,%200.0773,%20-0.9469%09Upgini%09AutoFE%3A%20features%20from%20%3Ca%20href%3D%27https%3A%2F%2Fupgini.com%2F%23data_sources%27%20target%3D%27_blank%27%20rel%3D%27noopener%20noreferrer%27%3ECalendar%20data%3C%2Fa%3E%09Daily%0Af_economic_date_cbpol_pca_2_33d6e3fc%090.0001%09100.0%091.6453,%201.6698,%201.1178%09Upgini%09World%20economic%20indicators%09Daily%0Af_events_date_week_sin1_847b5db1%090.0001%09100.0%090.4339,%20-0.4339,%200.4339%09Upgini%09Calendar%20data%09Daily%0Af_events_date_year_cos2_7acbaf1b%090.0001%09100.0%090.7936,%20-0.7624,%20-0.9805%09Upgini%09Calendar%20data%09Daily%0Af_events_date_year_sin1_3c44bc64%090.0001%09100.0%09-0.9428,%200.4482,%20-0.8543%09Upgini%09Calendar%20data%09Daily%0Af_financial_date_usd_7d_to_1y_9cbe7ef8%090.0001%09100.0%091.0197,%201.0185,%201.0194%09Upgini%09Markets%20data%09Daily%0Af_financial_date_usd_eur_5d1b9c8f%090.0001%09100.0%090.9007,%200.9452,%200.8717%09Upgini%09Markets%20data%09Daily%0A'))>📂 Copy</button>\n",
              "                <a href='mailto:<Share with...>?subject=Relevant external data sources from Upgini.com&body=Feature%20name%09SHAP%20value%09Coverage%20%25%09Value%20preview%09Provider%09Source%09Updates%0Af_autofe_div_09412fe1%090.0375%09100.0%090.8523,%200.8568,%20-0.5124%09Upgini%09AutoFE%3A%20features%20from%20%3Ca%20href%3D%27https%3A%2F%2Fupgini.com%2F%23data_sources%27%20target%3D%27_blank%27%20rel%3D%27noopener%20noreferrer%27%3ECalendar%20data%3C%2Fa%3E,%3Ca%20href%3D%27https%3A%2F%2Fupgini.com%2F%23data_sources%27%20target%3D%27_blank%27%20rel%3D%27noopener%20noreferrer%27%3EMarkets%20data%3C%2Fa%3E%09Daily%0Af_autofe_div_e04998cf%090.0147%09100.0%090.7779,%201.0923,%20-0.1982%09Upgini%09AutoFE%3A%20features%20from%20%3Ca%20href%3D%27https%3A%2F%2Fupgini.com%2F%23data_sources%27%20target%3D%27_blank%27%20rel%3D%27noopener%20noreferrer%27%3ECalendar%20data%3C%2Fa%3E,%3Ca%20href%3D%27https%3A%2F%2Fupgini.com%2F%23data_sources%27%20target%3D%27_blank%27%20rel%3D%27noopener%20noreferrer%27%3EMarkets%20data%3C%2Fa%3E%09Daily%0Af_autofe_mul_3f4a1860%090.0137%09100.0%09-0.8203,%20-0.3736,%20-0.7985%09Upgini%09AutoFE%3A%20features%20from%20%3Ca%20href%3D%27https%3A%2F%2Fupgini.com%2F%23data_sources%27%20target%3D%27_blank%27%20rel%3D%27noopener%20noreferrer%27%3ECalendar%20data%3C%2Fa%3E,%3Ca%20href%3D%27https%3A%2F%2Fupgini.com%2F%23data_sources%27%20target%3D%27_blank%27%20rel%3D%27noopener%20noreferrer%27%3EMarkets%20data%3C%2Fa%3E%09Daily%0Af_autofe_mul_25296268%090.0115%09100.0%090.5839,%200.9756,%200.4969%09Upgini%09AutoFE%3A%20features%20from%20%3Ca%20href%3D%27https%3A%2F%2Fupgini.com%2F%23data_sources%27%20target%3D%27_blank%27%20rel%3D%27noopener%20noreferrer%27%3ECalendar%20data%3C%2Fa%3E,%3Ca%20href%3D%27https%3A%2F%2Fupgini.com%2F%23data_sources%27%20target%3D%27_blank%27%20rel%3D%27noopener%20noreferrer%27%3EMarkets%20data%3C%2Fa%3E%09Daily%0Af_financial_date_snp500_fdb64447%090.0103%09100.0%091592.4301,%201970.0699,%202038.26%09Upgini%09Markets%20data%09Daily%0Af_autofe_mul_0cc09d2d%090.0085%09100.0%09-98.2614,%20-4.1398,%2030.9736%09Upgini%09AutoFE%3A%20features%20from%20%3Ca%20href%3D%27https%3A%2F%2Fupgini.com%2F%23data_sources%27%20target%3D%27_blank%27%20rel%3D%27noopener%20noreferrer%27%3ECalendar%20data%3C%2Fa%3E,%3Ca%20href%3D%27https%3A%2F%2Fupgini.com%2F%23data_sources%27%20target%3D%27_blank%27%20rel%3D%27noopener%20noreferrer%27%3EMarkets%20data%3C%2Fa%3E%09Daily%0Af_autofe_div_0dcebab1%090.0075%09100.0%091.062,%201.029,%200.9751%09Upgini%09AutoFE%3A%20features%20from%20%3Ca%20href%3D%27https%3A%2F%2Fupgini.com%2F%23data_sources%27%20target%3D%27_blank%27%20rel%3D%27noopener%20noreferrer%27%3EMarkets%20data%3C%2Fa%3E%09Daily%0Af_autofe_div_3e22df83%090.0073%09100.0%090.0101,%200.0267,%200.0079%09Upgini%09AutoFE%3A%20features%20from%20%3Ca%20href%3D%27https%3A%2F%2Fupgini.com%2F%23data_sources%27%20target%3D%27_blank%27%20rel%3D%27noopener%20noreferrer%27%3ECalendar%20data%3C%2Fa%3E,%3Ca%20href%3D%27https%3A%2F%2Fupgini.com%2F%23data_sources%27%20target%3D%27_blank%27%20rel%3D%27noopener%20noreferrer%27%3EMarkets%20data%3C%2Fa%3E%09Daily%0Af_autofe_div_50a5dcaf%090.0069%09100.0%09-1.4408,%20-1.0278,%20-0.8374%09Upgini%09AutoFE%3A%20features%20from%20%3Ca%20href%3D%27https%3A%2F%2Fupgini.com%2F%23data_sources%27%20target%3D%27_blank%27%20rel%3D%27noopener%20noreferrer%27%3ECalendar%20data%3C%2Fa%3E,%3Ca%20href%3D%27https%3A%2F%2Fupgini.com%2F%23data_sources%27%20target%3D%27_blank%27%20rel%3D%27noopener%20noreferrer%27%3EMarkets%20data%3C%2Fa%3E%09Daily%0Af_autofe_div_979141a9%090.0068%09100.0%090.5585,%20-0.2207,%20-0.1955%09Upgini%09AutoFE%3A%20features%20from%20%3Ca%20href%3D%27https%3A%2F%2Fupgini.com%2F%23data_sources%27%20target%3D%27_blank%27%20rel%3D%27noopener%20noreferrer%27%3ECalendar%20data%3C%2Fa%3E,%3Ca%20href%3D%27https%3A%2F%2Fupgini.com%2F%23data_sources%27%20target%3D%27_blank%27%20rel%3D%27noopener%20noreferrer%27%3EMarkets%20data%3C%2Fa%3E%09Daily%0Af_autofe_div_ab7c3e47%090.0068%09100.0%09-0.1883,%200.9395,%20-0.1932%09Upgini%09AutoFE%3A%20features%20from%20%3Ca%20href%3D%27https%3A%2F%2Fupgini.com%2F%23data_sources%27%20target%3D%27_blank%27%20rel%3D%27noopener%20noreferrer%27%3ECalendar%20data%3C%2Fa%3E,%3Ca%20href%3D%27https%3A%2F%2Fupgini.com%2F%23data_sources%27%20target%3D%27_blank%27%20rel%3D%27noopener%20noreferrer%27%3EMarkets%20data%3C%2Fa%3E%09Daily%0Af_autofe_div_a66c2b64%090.0061%09100.0%09-0.0005,%200.0004,%200.0004%09Upgini%09AutoFE%3A%20features%20from%20%3Ca%20href%3D%27https%3A%2F%2Fupgini.com%2F%23data_sources%27%20target%3D%27_blank%27%20rel%3D%27noopener%20noreferrer%27%3ECalendar%20data%3C%2Fa%3E,%3Ca%20href%3D%27https%3A%2F%2Fupgini.com%2F%23data_sources%27%20target%3D%27_blank%27%20rel%3D%27noopener%20noreferrer%27%3EMarkets%20data%3C%2Fa%3E%09Daily%0Af_autofe_mul_7b115967%090.006%09100.0%090.6115,%200.6341,%200.4846%09Upgini%09AutoFE%3A%20features%20from%20%3Ca%20href%3D%27https%3A%2F%2Fupgini.com%2F%23data_sources%27%20target%3D%27_blank%27%20rel%3D%27noopener%20noreferrer%27%3ECalendar%20data%3C%2Fa%3E,%3Ca%20href%3D%27https%3A%2F%2Fupgini.com%2F%23data_sources%27%20target%3D%27_blank%27%20rel%3D%27noopener%20noreferrer%27%3EMarkets%20data%3C%2Fa%3E%09Daily%0Af_autofe_mul_df98a323%090.0057%09100.0%091.0171,%20-0.2147,%20-0.8969%09Upgini%09AutoFE%3A%20features%20from%20%3Ca%20href%3D%27https%3A%2F%2Fupgini.com%2F%23data_sources%27%20target%3D%27_blank%27%20rel%3D%27noopener%20noreferrer%27%3ECalendar%20data%3C%2Fa%3E,%3Ca%20href%3D%27https%3A%2F%2Fupgini.com%2F%23data_sources%27%20target%3D%27_blank%27%20rel%3D%27noopener%20noreferrer%27%3EMarkets%20data%3C%2Fa%3E%09Daily%0Af_autofe_div_0a5adf97%090.0045%09100.0%09-0.1263,%20-0.2289,%20-0.237%09Upgini%09AutoFE%3A%20features%20from%20%3Ca%20href%3D%27https%3A%2F%2Fupgini.com%2F%23data_sources%27%20target%3D%27_blank%27%20rel%3D%27noopener%20noreferrer%27%3ECalendar%20data%3C%2Fa%3E,%3Ca%20href%3D%27https%3A%2F%2Fupgini.com%2F%23data_sources%27%20target%3D%27_blank%27%20rel%3D%27noopener%20noreferrer%27%3EMarkets%20data%3C%2Fa%3E%09Daily%0Af_autofe_div_89c56a5f%090.0039%09100.0%09-1.5357,%200.72,%20-1.0796%09Upgini%09AutoFE%3A%20features%20from%20%3Ca%20href%3D%27https%3A%2F%2Fupgini.com%2F%23data_sources%27%20target%3D%27_blank%27%20rel%3D%27noopener%20noreferrer%27%3ECalendar%20data%3C%2Fa%3E,%3Ca%20href%3D%27https%3A%2F%2Fupgini.com%2F%23data_sources%27%20target%3D%27_blank%27%20rel%3D%27noopener%20noreferrer%27%3EMarkets%20data%3C%2Fa%3E%09Daily%0Af_autofe_mul_cd42199d%090.0028%09100.0%09-0.921,%20-0.5986,%20-1.9542%09Upgini%09AutoFE%3A%20features%20from%20%3Ca%20href%3D%27https%3A%2F%2Fupgini.com%2F%23data_sources%27%20target%3D%27_blank%27%20rel%3D%27noopener%20noreferrer%27%3ECalendar%20data%3C%2Fa%3E,%3Ca%20href%3D%27https%3A%2F%2Fupgini.com%2F%23data_sources%27%20target%3D%27_blank%27%20rel%3D%27noopener%20noreferrer%27%3EMarkets%20data%3C%2Fa%3E%09Daily%0Af_events_date_year_cos1_9014a856%090.002%09100.0%090.3253,%200.5124,%20-0.3008%09Upgini%09Calendar%20data%09Daily%0Af_autofe_div_cf5dd7be%090.0018%09100.0%09-0.4243,%201.053,%20-0.9088%09Upgini%09AutoFE%3A%20features%20from%20%3Ca%20href%3D%27https%3A%2F%2Fupgini.com%2F%23data_sources%27%20target%3D%27_blank%27%20rel%3D%27noopener%20noreferrer%27%3ECalendar%20data%3C%2Fa%3E,%3Ca%20href%3D%27https%3A%2F%2Fupgini.com%2F%23data_sources%27%20target%3D%27_blank%27%20rel%3D%27noopener%20noreferrer%27%3EMarkets%20data%3C%2Fa%3E%09Daily%0Af_autofe_div_b97cf188%090.0018%0985.46637744034707%09-0.2846,%201.437,%200.9241%09Upgini%09AutoFE%3A%20features%20from%20%3Ca%20href%3D%27https%3A%2F%2Fupgini.com%2F%23data_sources%27%20target%3D%27_blank%27%20rel%3D%27noopener%20noreferrer%27%3ECalendar%20data%3C%2Fa%3E%09Daily%0Af_autofe_mul_58cac651%090.0012%09100.0%09-0.9285,%20-0.5493,%200.9469%09Upgini%09AutoFE%3A%20features%20from%20%3Ca%20href%3D%27https%3A%2F%2Fupgini.com%2F%23data_sources%27%20target%3D%27_blank%27%20rel%3D%27noopener%20noreferrer%27%3ECalendar%20data%3C%2Fa%3E%09Daily%0Af_autofe_div_ba625fe9%090.0011%09100.0%09-0.546,%2014.405,%20-1.2717%09Upgini%09AutoFE%3A%20features%20from%20%3Ca%20href%3D%27https%3A%2F%2Fupgini.com%2F%23data_sources%27%20target%3D%27_blank%27%20rel%3D%27noopener%20noreferrer%27%3ECalendar%20data%3C%2Fa%3E%09Daily%0Af_autofe_mul_08e89348%090.001%09100.0%0943.5055,%2019.2861,%2042.052%09Upgini%09AutoFE%3A%20features%20from%20%3Ca%20href%3D%27https%3A%2F%2Fupgini.com%2F%23data_sources%27%20target%3D%27_blank%27%20rel%3D%27noopener%20noreferrer%27%3ECalendar%20data%3C%2Fa%3E,%3Ca%20href%3D%27https%3A%2F%2Fupgini.com%2F%23data_sources%27%20target%3D%27_blank%27%20rel%3D%27noopener%20noreferrer%27%3EMarkets%20data%3C%2Fa%3E%09Daily%0Af_autofe_mul_af6d166b%090.001%09100.0%09-0.7276,%20-1.2153,%20-0.7965%09Upgini%09AutoFE%3A%20features%20from%20%3Ca%20href%3D%27https%3A%2F%2Fupgini.com%2F%23data_sources%27%20target%3D%27_blank%27%20rel%3D%27noopener%20noreferrer%27%3ECalendar%20data%3C%2Fa%3E,%3Ca%20href%3D%27https%3A%2F%2Fupgini.com%2F%23data_sources%27%20target%3D%27_blank%27%20rel%3D%27noopener%20noreferrer%27%3EMarkets%20data%3C%2Fa%3E%09Daily%0Af_autofe_div_effd1e0b%090.001%09100.0%092541.2696,%201880.8893,%201872.236...%09Upgini%09AutoFE%3A%20features%20from%20%3Ca%20href%3D%27https%3A%2F%2Fupgini.com%2F%23data_sources%27%20target%3D%27_blank%27%20rel%3D%27noopener%20noreferrer%27%3EMarkets%20data%3C%2Fa%3E%09Daily%0Af_autofe_div_86414197%090.0009%09100.0%09-0.1857,%200.6894,%20-0.2345%09Upgini%09AutoFE%3A%20features%20from%20%3Ca%20href%3D%27https%3A%2F%2Fupgini.com%2F%23data_sources%27%20target%3D%27_blank%27%20rel%3D%27noopener%20noreferrer%27%3ECalendar%20data%3C%2Fa%3E,%3Ca%20href%3D%27https%3A%2F%2Fupgini.com%2F%23data_sources%27%20target%3D%27_blank%27%20rel%3D%27noopener%20noreferrer%27%3EMarkets%20data%3C%2Fa%3E%09Daily%0Af_autofe_div_3a59c948%090.0008%09100.0%090.6734,%200.6325,%201.0211%09Upgini%09AutoFE%3A%20features%20from%20%3Ca%20href%3D%27https%3A%2F%2Fupgini.com%2F%23data_sources%27%20target%3D%27_blank%27%20rel%3D%27noopener%20noreferrer%27%3ECalendar%20data%3C%2Fa%3E,%3Ca%20href%3D%27https%3A%2F%2Fupgini.com%2F%23data_sources%27%20target%3D%27_blank%27%20rel%3D%27noopener%20noreferrer%27%3EMarkets%20data%3C%2Fa%3E%09Daily%0Af_autofe_mul_5feff686%090.0008%09100.0%090.2568,%200.206,%20-0.003%09Upgini%09AutoFE%3A%20features%20from%20%3Ca%20href%3D%27https%3A%2F%2Fupgini.com%2F%23data_sources%27%20target%3D%27_blank%27%20rel%3D%27noopener%20noreferrer%27%3ECalendar%20data%3C%2Fa%3E%09Daily%0Af_autofe_mul_7fc70d87%090.0006%09100.0%09-0.2349,%200.0258,%20-0.1947%09Upgini%09AutoFE%3A%20features%20from%20%3Ca%20href%3D%27https%3A%2F%2Fupgini.com%2F%23data_sources%27%20target%3D%27_blank%27%20rel%3D%27noopener%20noreferrer%27%3ECalendar%20data%3C%2Fa%3E%09Daily%0Af_autofe_mul_f018fe89%090.0004%09100.0%09-0.1253,%200.2211,%20-0.8627%09Upgini%09AutoFE%3A%20features%20from%20%3Ca%20href%3D%27https%3A%2F%2Fupgini.com%2F%23data_sources%27%20target%3D%27_blank%27%20rel%3D%27noopener%20noreferrer%27%3ECalendar%20data%3C%2Fa%3E%09Daily%0Af_autofe_div_115af392%090.0003%09100.0%09350.6553,%20417.9772,%20340.5007%09Upgini%09AutoFE%3A%20features%20from%20%3Ca%20href%3D%27https%3A%2F%2Fupgini.com%2F%23data_sources%27%20target%3D%27_blank%27%20rel%3D%27noopener%20noreferrer%27%3EMarkets%20data%3C%2Fa%3E%09Daily%0Af_autofe_mul_69439562%090.0002%09100.0%09-667.0656,%20-1259.6741,%20-352.99...%09Upgini%09AutoFE%3A%20features%20from%20%3Ca%20href%3D%27https%3A%2F%2Fupgini.com%2F%23data_sources%27%20target%3D%27_blank%27%20rel%3D%27noopener%20noreferrer%27%3ECalendar%20data%3C%2Fa%3E,%3Ca%20href%3D%27https%3A%2F%2Fupgini.com%2F%23data_sources%27%20target%3D%27_blank%27%20rel%3D%27noopener%20noreferrer%27%3EMarkets%20data%3C%2Fa%3E%09Daily%0Af_autofe_mul_3a233471%090.0002%09100.0%091.1192,%200.8836,%200.8518%09Upgini%09AutoFE%3A%20features%20from%20%3Ca%20href%3D%27https%3A%2F%2Fupgini.com%2F%23data_sources%27%20target%3D%27_blank%27%20rel%3D%27noopener%20noreferrer%27%3EMarkets%20data%3C%2Fa%3E%09Daily%0Af_autofe_div_1d266053%090.0001%09100.0%09-0.192,%200.9286,%200.6045%09Upgini%09AutoFE%3A%20features%20from%20%3Ca%20href%3D%27https%3A%2F%2Fupgini.com%2F%23data_sources%27%20target%3D%27_blank%27%20rel%3D%27noopener%20noreferrer%27%3ECalendar%20data%3C%2Fa%3E,%3Ca%20href%3D%27https%3A%2F%2Fupgini.com%2F%23data_sources%27%20target%3D%27_blank%27%20rel%3D%27noopener%20noreferrer%27%3EMarkets%20data%3C%2Fa%3E%09Daily%0Af_events_date_year_sin2_59955ffd%090.0001%09100.0%090.4482,%20-0.9428,%200.1539%09Upgini%09Calendar%20data%09Daily%0Af_autofe_div_60e9ccbb%090.0001%09100.0%09-0.4176,%200.4346,%20-0.0939%09Upgini%09AutoFE%3A%20features%20from%20%3Ca%20href%3D%27https%3A%2F%2Fupgini.com%2F%23data_sources%27%20target%3D%27_blank%27%20rel%3D%27noopener%20noreferrer%27%3ECalendar%20data%3C%2Fa%3E,%3Ca%20href%3D%27https%3A%2F%2Fupgini.com%2F%23data_sources%27%20target%3D%27_blank%27%20rel%3D%27noopener%20noreferrer%27%3EMarkets%20data%3C%2Fa%3E%09Daily%0Af_autofe_div_ff73d45e%090.0001%09100.0%091.0801,%201.0749,%201.0849%09Upgini%09AutoFE%3A%20features%20from%20%3Ca%20href%3D%27https%3A%2F%2Fupgini.com%2F%23data_sources%27%20target%3D%27_blank%27%20rel%3D%27noopener%20noreferrer%27%3EMarkets%20data%3C%2Fa%3E%09Daily%0Af_autofe_mul_4c9c7d0a%090.0001%09100.0%090.7564,%200.6754,%200.9462%09Upgini%09AutoFE%3A%20features%20from%20%3Ca%20href%3D%27https%3A%2F%2Fupgini.com%2F%23data_sources%27%20target%3D%27_blank%27%20rel%3D%27noopener%20noreferrer%27%3EMarkets%20data%3C%2Fa%3E%09Daily%0Af_autofe_mul_a4d34ac2%090.0001%09100.0%090.1053,%200.0773,%20-0.9469%09Upgini%09AutoFE%3A%20features%20from%20%3Ca%20href%3D%27https%3A%2F%2Fupgini.com%2F%23data_sources%27%20target%3D%27_blank%27%20rel%3D%27noopener%20noreferrer%27%3ECalendar%20data%3C%2Fa%3E%09Daily%0Af_economic_date_cbpol_pca_2_33d6e3fc%090.0001%09100.0%091.6453,%201.6698,%201.1178%09Upgini%09World%20economic%20indicators%09Daily%0Af_events_date_week_sin1_847b5db1%090.0001%09100.0%090.4339,%20-0.4339,%200.4339%09Upgini%09Calendar%20data%09Daily%0Af_events_date_year_cos2_7acbaf1b%090.0001%09100.0%090.7936,%20-0.7624,%20-0.9805%09Upgini%09Calendar%20data%09Daily%0Af_events_date_year_sin1_3c44bc64%090.0001%09100.0%09-0.9428,%200.4482,%20-0.8543%09Upgini%09Calendar%20data%09Daily%0Af_financial_date_usd_7d_to_1y_9cbe7ef8%090.0001%09100.0%091.0197,%201.0185,%201.0194%09Upgini%09Markets%20data%09Daily%0Af_financial_date_usd_eur_5d1b9c8f%090.0001%09100.0%090.9007,%200.9452,%200.8717%09Upgini%09Markets%20data%09Daily%0A'>\n",
              "                    <button>📨 Share</button>\n",
              "                </a>\n",
              "            </div>\n",
              "            <table class='upgini-df'><thead><th>Feature name</th><th>SHAP value</th><th>Coverage %</th><th>Value preview</th><th>Provider</th><th>Source</th><th>Updates</th></thead><tbody><tr><td class='upgini-text'>f_autofe_div_09412fe1</td><td class='upgini-number'>0.0375</td><td class='upgini-number'>100.0000</td><td class='upgini-text'>0.8523, 0.8568, -0.5124</td><td class='upgini-text'><a href='https://upgini.com' target='_blank' rel='noopener noreferrer'>Upgini</a></td><td class='upgini-text'>AutoFE: features from <a href='https://upgini.com/#data_sources' target='_blank' rel='noopener noreferrer'>Calendar data</a>,<a href='https://upgini.com/#data_sources' target='_blank' rel='noopener noreferrer'>Markets data</a></td><td class='upgini-text'>Daily</td></tr><tr><td class='upgini-text'>f_autofe_div_e04998cf</td><td class='upgini-number'>0.0147</td><td class='upgini-number'>100.0000</td><td class='upgini-text'>0.7779, 1.0923, -0.1982</td><td class='upgini-text'><a href='https://upgini.com' target='_blank' rel='noopener noreferrer'>Upgini</a></td><td class='upgini-text'>AutoFE: features from <a href='https://upgini.com/#data_sources' target='_blank' rel='noopener noreferrer'>Calendar data</a>,<a href='https://upgini.com/#data_sources' target='_blank' rel='noopener noreferrer'>Markets data</a></td><td class='upgini-text'>Daily</td></tr><tr><td class='upgini-text'>f_autofe_mul_3f4a1860</td><td class='upgini-number'>0.0137</td><td class='upgini-number'>100.0000</td><td class='upgini-text'>-0.8203, -0.3736, -0.7985</td><td class='upgini-text'><a href='https://upgini.com' target='_blank' rel='noopener noreferrer'>Upgini</a></td><td class='upgini-text'>AutoFE: features from <a href='https://upgini.com/#data_sources' target='_blank' rel='noopener noreferrer'>Calendar data</a>,<a href='https://upgini.com/#data_sources' target='_blank' rel='noopener noreferrer'>Markets data</a></td><td class='upgini-text'>Daily</td></tr><tr><td class='upgini-text'>f_autofe_mul_25296268</td><td class='upgini-number'>0.0115</td><td class='upgini-number'>100.0000</td><td class='upgini-text'>0.5839, 0.9756, 0.4969</td><td class='upgini-text'><a href='https://upgini.com' target='_blank' rel='noopener noreferrer'>Upgini</a></td><td class='upgini-text'>AutoFE: features from <a href='https://upgini.com/#data_sources' target='_blank' rel='noopener noreferrer'>Calendar data</a>,<a href='https://upgini.com/#data_sources' target='_blank' rel='noopener noreferrer'>Markets data</a></td><td class='upgini-text'>Daily</td></tr><tr><td class='upgini-text'><a href='https://docs.upgini.com/public/markets/finance#f_financial_date_snp500_fdb64447' target='_blank' rel='noopener noreferrer'>f_financial_date_snp500_fdb64447</a></td><td class='upgini-number'>0.0103</td><td class='upgini-number'>100.0000</td><td class='upgini-text'>1592.4301, 1970.0699, 2038.26</td><td class='upgini-text'><a href='https://upgini.com' target='_blank' rel='noopener noreferrer'>Upgini</a></td><td class='upgini-text'><a href='https://upgini.com/#data_sources' target='_blank' rel='noopener noreferrer'>Markets data</a></td><td class='upgini-text'>Daily</td></tr><tr><td class='upgini-text'>f_autofe_mul_0cc09d2d</td><td class='upgini-number'>0.0085</td><td class='upgini-number'>100.0000</td><td class='upgini-text'>-98.2614, -4.1398, 30.9736</td><td class='upgini-text'><a href='https://upgini.com' target='_blank' rel='noopener noreferrer'>Upgini</a></td><td class='upgini-text'>AutoFE: features from <a href='https://upgini.com/#data_sources' target='_blank' rel='noopener noreferrer'>Calendar data</a>,<a href='https://upgini.com/#data_sources' target='_blank' rel='noopener noreferrer'>Markets data</a></td><td class='upgini-text'>Daily</td></tr><tr><td class='upgini-text'>f_autofe_div_0dcebab1</td><td class='upgini-number'>0.0075</td><td class='upgini-number'>100.0000</td><td class='upgini-text'>1.062, 1.029, 0.9751</td><td class='upgini-text'><a href='https://upgini.com' target='_blank' rel='noopener noreferrer'>Upgini</a></td><td class='upgini-text'>AutoFE: features from <a href='https://upgini.com/#data_sources' target='_blank' rel='noopener noreferrer'>Markets data</a></td><td class='upgini-text'>Daily</td></tr><tr><td class='upgini-text'>f_autofe_div_3e22df83</td><td class='upgini-number'>0.0073</td><td class='upgini-number'>100.0000</td><td class='upgini-text'>0.0101, 0.0267, 0.0079</td><td class='upgini-text'><a href='https://upgini.com' target='_blank' rel='noopener noreferrer'>Upgini</a></td><td class='upgini-text'>AutoFE: features from <a href='https://upgini.com/#data_sources' target='_blank' rel='noopener noreferrer'>Calendar data</a>,<a href='https://upgini.com/#data_sources' target='_blank' rel='noopener noreferrer'>Markets data</a></td><td class='upgini-text'>Daily</td></tr><tr><td class='upgini-text'>f_autofe_div_50a5dcaf</td><td class='upgini-number'>0.0069</td><td class='upgini-number'>100.0000</td><td class='upgini-text'>-1.4408, -1.0278, -0.8374</td><td class='upgini-text'><a href='https://upgini.com' target='_blank' rel='noopener noreferrer'>Upgini</a></td><td class='upgini-text'>AutoFE: features from <a href='https://upgini.com/#data_sources' target='_blank' rel='noopener noreferrer'>Calendar data</a>,<a href='https://upgini.com/#data_sources' target='_blank' rel='noopener noreferrer'>Markets data</a></td><td class='upgini-text'>Daily</td></tr><tr><td class='upgini-text'>f_autofe_div_979141a9</td><td class='upgini-number'>0.0068</td><td class='upgini-number'>100.0000</td><td class='upgini-text'>0.5585, -0.2207, -0.1955</td><td class='upgini-text'><a href='https://upgini.com' target='_blank' rel='noopener noreferrer'>Upgini</a></td><td class='upgini-text'>AutoFE: features from <a href='https://upgini.com/#data_sources' target='_blank' rel='noopener noreferrer'>Calendar data</a>,<a href='https://upgini.com/#data_sources' target='_blank' rel='noopener noreferrer'>Markets data</a></td><td class='upgini-text'>Daily</td></tr><tr><td class='upgini-text'>f_autofe_div_ab7c3e47</td><td class='upgini-number'>0.0068</td><td class='upgini-number'>100.0000</td><td class='upgini-text'>-0.1883, 0.9395, -0.1932</td><td class='upgini-text'><a href='https://upgini.com' target='_blank' rel='noopener noreferrer'>Upgini</a></td><td class='upgini-text'>AutoFE: features from <a href='https://upgini.com/#data_sources' target='_blank' rel='noopener noreferrer'>Calendar data</a>,<a href='https://upgini.com/#data_sources' target='_blank' rel='noopener noreferrer'>Markets data</a></td><td class='upgini-text'>Daily</td></tr><tr><td class='upgini-text'>f_autofe_div_a66c2b64</td><td class='upgini-number'>0.0061</td><td class='upgini-number'>100.0000</td><td class='upgini-text'>-0.0005, 0.0004, 0.0004</td><td class='upgini-text'><a href='https://upgini.com' target='_blank' rel='noopener noreferrer'>Upgini</a></td><td class='upgini-text'>AutoFE: features from <a href='https://upgini.com/#data_sources' target='_blank' rel='noopener noreferrer'>Calendar data</a>,<a href='https://upgini.com/#data_sources' target='_blank' rel='noopener noreferrer'>Markets data</a></td><td class='upgini-text'>Daily</td></tr><tr><td class='upgini-text'>f_autofe_mul_7b115967</td><td class='upgini-number'>0.0060</td><td class='upgini-number'>100.0000</td><td class='upgini-text'>0.6115, 0.6341, 0.4846</td><td class='upgini-text'><a href='https://upgini.com' target='_blank' rel='noopener noreferrer'>Upgini</a></td><td class='upgini-text'>AutoFE: features from <a href='https://upgini.com/#data_sources' target='_blank' rel='noopener noreferrer'>Calendar data</a>,<a href='https://upgini.com/#data_sources' target='_blank' rel='noopener noreferrer'>Markets data</a></td><td class='upgini-text'>Daily</td></tr><tr><td class='upgini-text'>f_autofe_mul_df98a323</td><td class='upgini-number'>0.0057</td><td class='upgini-number'>100.0000</td><td class='upgini-text'>1.0171, -0.2147, -0.8969</td><td class='upgini-text'><a href='https://upgini.com' target='_blank' rel='noopener noreferrer'>Upgini</a></td><td class='upgini-text'>AutoFE: features from <a href='https://upgini.com/#data_sources' target='_blank' rel='noopener noreferrer'>Calendar data</a>,<a href='https://upgini.com/#data_sources' target='_blank' rel='noopener noreferrer'>Markets data</a></td><td class='upgini-text'>Daily</td></tr><tr><td class='upgini-text'>f_autofe_div_0a5adf97</td><td class='upgini-number'>0.0045</td><td class='upgini-number'>100.0000</td><td class='upgini-text'>-0.1263, -0.2289, -0.237</td><td class='upgini-text'><a href='https://upgini.com' target='_blank' rel='noopener noreferrer'>Upgini</a></td><td class='upgini-text'>AutoFE: features from <a href='https://upgini.com/#data_sources' target='_blank' rel='noopener noreferrer'>Calendar data</a>,<a href='https://upgini.com/#data_sources' target='_blank' rel='noopener noreferrer'>Markets data</a></td><td class='upgini-text'>Daily</td></tr><tr><td class='upgini-text'>f_autofe_div_89c56a5f</td><td class='upgini-number'>0.0039</td><td class='upgini-number'>100.0000</td><td class='upgini-text'>-1.5357, 0.72, -1.0796</td><td class='upgini-text'><a href='https://upgini.com' target='_blank' rel='noopener noreferrer'>Upgini</a></td><td class='upgini-text'>AutoFE: features from <a href='https://upgini.com/#data_sources' target='_blank' rel='noopener noreferrer'>Calendar data</a>,<a href='https://upgini.com/#data_sources' target='_blank' rel='noopener noreferrer'>Markets data</a></td><td class='upgini-text'>Daily</td></tr><tr><td class='upgini-text'>f_autofe_mul_cd42199d</td><td class='upgini-number'>0.0028</td><td class='upgini-number'>100.0000</td><td class='upgini-text'>-0.921, -0.5986, -1.9542</td><td class='upgini-text'><a href='https://upgini.com' target='_blank' rel='noopener noreferrer'>Upgini</a></td><td class='upgini-text'>AutoFE: features from <a href='https://upgini.com/#data_sources' target='_blank' rel='noopener noreferrer'>Calendar data</a>,<a href='https://upgini.com/#data_sources' target='_blank' rel='noopener noreferrer'>Markets data</a></td><td class='upgini-text'>Daily</td></tr><tr><td class='upgini-text'><a href='https://docs.upgini.com/public/calendar/calendar#f_events_date_year_cos1_9014a856' target='_blank' rel='noopener noreferrer'>f_events_date_year_cos1_9014a856</a></td><td class='upgini-number'>0.0020</td><td class='upgini-number'>100.0000</td><td class='upgini-text'>0.3253, 0.5124, -0.3008</td><td class='upgini-text'><a href='https://upgini.com' target='_blank' rel='noopener noreferrer'>Upgini</a></td><td class='upgini-text'><a href='https://upgini.com/#data_sources' target='_blank' rel='noopener noreferrer'>Calendar data</a></td><td class='upgini-text'>Daily</td></tr><tr><td class='upgini-text'>f_autofe_div_cf5dd7be</td><td class='upgini-number'>0.0018</td><td class='upgini-number'>100.0000</td><td class='upgini-text'>-0.4243, 1.053, -0.9088</td><td class='upgini-text'><a href='https://upgini.com' target='_blank' rel='noopener noreferrer'>Upgini</a></td><td class='upgini-text'>AutoFE: features from <a href='https://upgini.com/#data_sources' target='_blank' rel='noopener noreferrer'>Calendar data</a>,<a href='https://upgini.com/#data_sources' target='_blank' rel='noopener noreferrer'>Markets data</a></td><td class='upgini-text'>Daily</td></tr><tr><td class='upgini-text'>f_autofe_div_b97cf188</td><td class='upgini-number'>0.0018</td><td class='upgini-number'>85.4664</td><td class='upgini-text'>-0.2846, 1.437, 0.9241</td><td class='upgini-text'><a href='https://upgini.com' target='_blank' rel='noopener noreferrer'>Upgini</a></td><td class='upgini-text'>AutoFE: features from <a href='https://upgini.com/#data_sources' target='_blank' rel='noopener noreferrer'>Calendar data</a></td><td class='upgini-text'>Daily</td></tr><tr><td class='upgini-text'>f_autofe_mul_58cac651</td><td class='upgini-number'>0.0012</td><td class='upgini-number'>100.0000</td><td class='upgini-text'>-0.9285, -0.5493, 0.9469</td><td class='upgini-text'><a href='https://upgini.com' target='_blank' rel='noopener noreferrer'>Upgini</a></td><td class='upgini-text'>AutoFE: features from <a href='https://upgini.com/#data_sources' target='_blank' rel='noopener noreferrer'>Calendar data</a></td><td class='upgini-text'>Daily</td></tr><tr><td class='upgini-text'>f_autofe_div_ba625fe9</td><td class='upgini-number'>0.0011</td><td class='upgini-number'>100.0000</td><td class='upgini-text'>-0.546, 14.405, -1.2717</td><td class='upgini-text'><a href='https://upgini.com' target='_blank' rel='noopener noreferrer'>Upgini</a></td><td class='upgini-text'>AutoFE: features from <a href='https://upgini.com/#data_sources' target='_blank' rel='noopener noreferrer'>Calendar data</a></td><td class='upgini-text'>Daily</td></tr><tr><td class='upgini-text'>f_autofe_mul_08e89348</td><td class='upgini-number'>0.0010</td><td class='upgini-number'>100.0000</td><td class='upgini-text'>43.5055, 19.2861, 42.052</td><td class='upgini-text'><a href='https://upgini.com' target='_blank' rel='noopener noreferrer'>Upgini</a></td><td class='upgini-text'>AutoFE: features from <a href='https://upgini.com/#data_sources' target='_blank' rel='noopener noreferrer'>Calendar data</a>,<a href='https://upgini.com/#data_sources' target='_blank' rel='noopener noreferrer'>Markets data</a></td><td class='upgini-text'>Daily</td></tr><tr><td class='upgini-text'>f_autofe_mul_af6d166b</td><td class='upgini-number'>0.0010</td><td class='upgini-number'>100.0000</td><td class='upgini-text'>-0.7276, -1.2153, -0.7965</td><td class='upgini-text'><a href='https://upgini.com' target='_blank' rel='noopener noreferrer'>Upgini</a></td><td class='upgini-text'>AutoFE: features from <a href='https://upgini.com/#data_sources' target='_blank' rel='noopener noreferrer'>Calendar data</a>,<a href='https://upgini.com/#data_sources' target='_blank' rel='noopener noreferrer'>Markets data</a></td><td class='upgini-text'>Daily</td></tr><tr><td class='upgini-text'>f_autofe_div_effd1e0b</td><td class='upgini-number'>0.0010</td><td class='upgini-number'>100.0000</td><td class='upgini-text'>2541.2696, 1880.8893, 1872.236...</td><td class='upgini-text'><a href='https://upgini.com' target='_blank' rel='noopener noreferrer'>Upgini</a></td><td class='upgini-text'>AutoFE: features from <a href='https://upgini.com/#data_sources' target='_blank' rel='noopener noreferrer'>Markets data</a></td><td class='upgini-text'>Daily</td></tr><tr><td class='upgini-text'>f_autofe_div_86414197</td><td class='upgini-number'>0.0009</td><td class='upgini-number'>100.0000</td><td class='upgini-text'>-0.1857, 0.6894, -0.2345</td><td class='upgini-text'><a href='https://upgini.com' target='_blank' rel='noopener noreferrer'>Upgini</a></td><td class='upgini-text'>AutoFE: features from <a href='https://upgini.com/#data_sources' target='_blank' rel='noopener noreferrer'>Calendar data</a>,<a href='https://upgini.com/#data_sources' target='_blank' rel='noopener noreferrer'>Markets data</a></td><td class='upgini-text'>Daily</td></tr><tr><td class='upgini-text'>f_autofe_div_3a59c948</td><td class='upgini-number'>0.0008</td><td class='upgini-number'>100.0000</td><td class='upgini-text'>0.6734, 0.6325, 1.0211</td><td class='upgini-text'><a href='https://upgini.com' target='_blank' rel='noopener noreferrer'>Upgini</a></td><td class='upgini-text'>AutoFE: features from <a href='https://upgini.com/#data_sources' target='_blank' rel='noopener noreferrer'>Calendar data</a>,<a href='https://upgini.com/#data_sources' target='_blank' rel='noopener noreferrer'>Markets data</a></td><td class='upgini-text'>Daily</td></tr><tr><td class='upgini-text'>f_autofe_mul_5feff686</td><td class='upgini-number'>0.0008</td><td class='upgini-number'>100.0000</td><td class='upgini-text'>0.2568, 0.206, -0.003</td><td class='upgini-text'><a href='https://upgini.com' target='_blank' rel='noopener noreferrer'>Upgini</a></td><td class='upgini-text'>AutoFE: features from <a href='https://upgini.com/#data_sources' target='_blank' rel='noopener noreferrer'>Calendar data</a></td><td class='upgini-text'>Daily</td></tr><tr><td class='upgini-text'>f_autofe_mul_7fc70d87</td><td class='upgini-number'>0.0006</td><td class='upgini-number'>100.0000</td><td class='upgini-text'>-0.2349, 0.0258, -0.1947</td><td class='upgini-text'><a href='https://upgini.com' target='_blank' rel='noopener noreferrer'>Upgini</a></td><td class='upgini-text'>AutoFE: features from <a href='https://upgini.com/#data_sources' target='_blank' rel='noopener noreferrer'>Calendar data</a></td><td class='upgini-text'>Daily</td></tr><tr><td class='upgini-text'>f_autofe_mul_f018fe89</td><td class='upgini-number'>0.0004</td><td class='upgini-number'>100.0000</td><td class='upgini-text'>-0.1253, 0.2211, -0.8627</td><td class='upgini-text'><a href='https://upgini.com' target='_blank' rel='noopener noreferrer'>Upgini</a></td><td class='upgini-text'>AutoFE: features from <a href='https://upgini.com/#data_sources' target='_blank' rel='noopener noreferrer'>Calendar data</a></td><td class='upgini-text'>Daily</td></tr><tr><td class='upgini-text'>f_autofe_div_115af392</td><td class='upgini-number'>0.0003</td><td class='upgini-number'>100.0000</td><td class='upgini-text'>350.6553, 417.9772, 340.5007</td><td class='upgini-text'><a href='https://upgini.com' target='_blank' rel='noopener noreferrer'>Upgini</a></td><td class='upgini-text'>AutoFE: features from <a href='https://upgini.com/#data_sources' target='_blank' rel='noopener noreferrer'>Markets data</a></td><td class='upgini-text'>Daily</td></tr><tr><td class='upgini-text'>f_autofe_mul_69439562</td><td class='upgini-number'>0.0002</td><td class='upgini-number'>100.0000</td><td class='upgini-text'>-667.0656, -1259.6741, -352.99...</td><td class='upgini-text'><a href='https://upgini.com' target='_blank' rel='noopener noreferrer'>Upgini</a></td><td class='upgini-text'>AutoFE: features from <a href='https://upgini.com/#data_sources' target='_blank' rel='noopener noreferrer'>Calendar data</a>,<a href='https://upgini.com/#data_sources' target='_blank' rel='noopener noreferrer'>Markets data</a></td><td class='upgini-text'>Daily</td></tr><tr><td class='upgini-text'>f_autofe_mul_3a233471</td><td class='upgini-number'>0.0002</td><td class='upgini-number'>100.0000</td><td class='upgini-text'>1.1192, 0.8836, 0.8518</td><td class='upgini-text'><a href='https://upgini.com' target='_blank' rel='noopener noreferrer'>Upgini</a></td><td class='upgini-text'>AutoFE: features from <a href='https://upgini.com/#data_sources' target='_blank' rel='noopener noreferrer'>Markets data</a></td><td class='upgini-text'>Daily</td></tr><tr><td class='upgini-text'>f_autofe_div_1d266053</td><td class='upgini-number'>0.0001</td><td class='upgini-number'>100.0000</td><td class='upgini-text'>-0.192, 0.9286, 0.6045</td><td class='upgini-text'><a href='https://upgini.com' target='_blank' rel='noopener noreferrer'>Upgini</a></td><td class='upgini-text'>AutoFE: features from <a href='https://upgini.com/#data_sources' target='_blank' rel='noopener noreferrer'>Calendar data</a>,<a href='https://upgini.com/#data_sources' target='_blank' rel='noopener noreferrer'>Markets data</a></td><td class='upgini-text'>Daily</td></tr><tr><td class='upgini-text'><a href='https://docs.upgini.com/public/calendar/calendar#f_events_date_year_sin2_59955ffd' target='_blank' rel='noopener noreferrer'>f_events_date_year_sin2_59955ffd</a></td><td class='upgini-number'>0.0001</td><td class='upgini-number'>100.0000</td><td class='upgini-text'>0.4482, -0.9428, 0.1539</td><td class='upgini-text'><a href='https://upgini.com' target='_blank' rel='noopener noreferrer'>Upgini</a></td><td class='upgini-text'><a href='https://upgini.com/#data_sources' target='_blank' rel='noopener noreferrer'>Calendar data</a></td><td class='upgini-text'>Daily</td></tr><tr><td class='upgini-text'>f_autofe_div_60e9ccbb</td><td class='upgini-number'>0.0001</td><td class='upgini-number'>100.0000</td><td class='upgini-text'>-0.4176, 0.4346, -0.0939</td><td class='upgini-text'><a href='https://upgini.com' target='_blank' rel='noopener noreferrer'>Upgini</a></td><td class='upgini-text'>AutoFE: features from <a href='https://upgini.com/#data_sources' target='_blank' rel='noopener noreferrer'>Calendar data</a>,<a href='https://upgini.com/#data_sources' target='_blank' rel='noopener noreferrer'>Markets data</a></td><td class='upgini-text'>Daily</td></tr><tr><td class='upgini-text'>f_autofe_div_ff73d45e</td><td class='upgini-number'>0.0001</td><td class='upgini-number'>100.0000</td><td class='upgini-text'>1.0801, 1.0749, 1.0849</td><td class='upgini-text'><a href='https://upgini.com' target='_blank' rel='noopener noreferrer'>Upgini</a></td><td class='upgini-text'>AutoFE: features from <a href='https://upgini.com/#data_sources' target='_blank' rel='noopener noreferrer'>Markets data</a></td><td class='upgini-text'>Daily</td></tr><tr><td class='upgini-text'>f_autofe_mul_4c9c7d0a</td><td class='upgini-number'>0.0001</td><td class='upgini-number'>100.0000</td><td class='upgini-text'>0.7564, 0.6754, 0.9462</td><td class='upgini-text'><a href='https://upgini.com' target='_blank' rel='noopener noreferrer'>Upgini</a></td><td class='upgini-text'>AutoFE: features from <a href='https://upgini.com/#data_sources' target='_blank' rel='noopener noreferrer'>Markets data</a></td><td class='upgini-text'>Daily</td></tr><tr><td class='upgini-text'>f_autofe_mul_a4d34ac2</td><td class='upgini-number'>0.0001</td><td class='upgini-number'>100.0000</td><td class='upgini-text'>0.1053, 0.0773, -0.9469</td><td class='upgini-text'><a href='https://upgini.com' target='_blank' rel='noopener noreferrer'>Upgini</a></td><td class='upgini-text'>AutoFE: features from <a href='https://upgini.com/#data_sources' target='_blank' rel='noopener noreferrer'>Calendar data</a></td><td class='upgini-text'>Daily</td></tr><tr><td class='upgini-text'><a href='https://docs.upgini.com/public/economics/cbpol_pca#f_economic_date_cbpol_pca_2_33d6e3fc' target='_blank' rel='noopener noreferrer'>f_economic_date_cbpol_pca_2_33d6e3fc</a></td><td class='upgini-number'>0.0001</td><td class='upgini-number'>100.0000</td><td class='upgini-text'>1.6453, 1.6698, 1.1178</td><td class='upgini-text'><a href='https://upgini.com' target='_blank' rel='noopener noreferrer'>Upgini</a></td><td class='upgini-text'><a href='https://upgini.com/#data_sources' target='_blank' rel='noopener noreferrer'>World economic indicators</a></td><td class='upgini-text'>Daily</td></tr><tr><td class='upgini-text'><a href='https://docs.upgini.com/public/calendar/calendar#f_events_date_week_sin1_847b5db1' target='_blank' rel='noopener noreferrer'>f_events_date_week_sin1_847b5db1</a></td><td class='upgini-number'>0.0001</td><td class='upgini-number'>100.0000</td><td class='upgini-text'>0.4339, -0.4339, 0.4339</td><td class='upgini-text'><a href='https://upgini.com' target='_blank' rel='noopener noreferrer'>Upgini</a></td><td class='upgini-text'><a href='https://upgini.com/#data_sources' target='_blank' rel='noopener noreferrer'>Calendar data</a></td><td class='upgini-text'>Daily</td></tr><tr><td class='upgini-text'><a href='https://docs.upgini.com/public/calendar/calendar#f_events_date_year_cos2_7acbaf1b' target='_blank' rel='noopener noreferrer'>f_events_date_year_cos2_7acbaf1b</a></td><td class='upgini-number'>0.0001</td><td class='upgini-number'>100.0000</td><td class='upgini-text'>0.7936, -0.7624, -0.9805</td><td class='upgini-text'><a href='https://upgini.com' target='_blank' rel='noopener noreferrer'>Upgini</a></td><td class='upgini-text'><a href='https://upgini.com/#data_sources' target='_blank' rel='noopener noreferrer'>Calendar data</a></td><td class='upgini-text'>Daily</td></tr><tr><td class='upgini-text'><a href='https://docs.upgini.com/public/calendar/calendar#f_events_date_year_sin1_3c44bc64' target='_blank' rel='noopener noreferrer'>f_events_date_year_sin1_3c44bc64</a></td><td class='upgini-number'>0.0001</td><td class='upgini-number'>100.0000</td><td class='upgini-text'>-0.9428, 0.4482, -0.8543</td><td class='upgini-text'><a href='https://upgini.com' target='_blank' rel='noopener noreferrer'>Upgini</a></td><td class='upgini-text'><a href='https://upgini.com/#data_sources' target='_blank' rel='noopener noreferrer'>Calendar data</a></td><td class='upgini-text'>Daily</td></tr><tr><td class='upgini-text'><a href='https://docs.upgini.com/public/markets/finance#f_financial_date_usd_7d_to_1y_9cbe7ef8' target='_blank' rel='noopener noreferrer'>f_financial_date_usd_7d_to_1y_9cbe7ef8</a></td><td class='upgini-number'>0.0001</td><td class='upgini-number'>100.0000</td><td class='upgini-text'>1.0197, 1.0185, 1.0194</td><td class='upgini-text'><a href='https://upgini.com' target='_blank' rel='noopener noreferrer'>Upgini</a></td><td class='upgini-text'><a href='https://upgini.com/#data_sources' target='_blank' rel='noopener noreferrer'>Markets data</a></td><td class='upgini-text'>Daily</td></tr><tr><td class='upgini-text'><a href='https://docs.upgini.com/public/markets/finance#f_financial_date_usd_eur_5d1b9c8f' target='_blank' rel='noopener noreferrer'>f_financial_date_usd_eur_5d1b9c8f</a></td><td class='upgini-number'>0.0001</td><td class='upgini-number'>100.0000</td><td class='upgini-text'>0.9007, 0.9452, 0.8717</td><td class='upgini-text'><a href='https://upgini.com' target='_blank' rel='noopener noreferrer'>Upgini</a></td><td class='upgini-text'><a href='https://upgini.com/#data_sources' target='_blank' rel='noopener noreferrer'>Markets data</a></td><td class='upgini-text'>Daily</td></tr></tbody></table>\n",
              "        </div>\n",
              "        "
            ]
          },
          "metadata": {}
        },
        {
          "output_type": "display_data",
          "data": {
            "text/plain": [
              "<IPython.core.display.HTML object>"
            ],
            "text/html": [
              "<style>\n",
              "            .upgini-df thead th {\n",
              "                font-weight:bold;\n",
              "                text-align: center;\n",
              "                padding: 0.5em;\n",
              "                border-bottom: 2px solid black;\n",
              "            }\n",
              "\n",
              "            .upgini-df tbody td {\n",
              "                padding: 0.5em;\n",
              "            }\n",
              "\n",
              "            .upgini-df tbody tr:nth-child(odd) {\n",
              "                background-color: #ffffff;\n",
              "            }\n",
              "\n",
              "            .upgini-df tbody tr:nth-child(even) {\n",
              "                background-color: #f2f2f2;\n",
              "            }\n",
              "\n",
              "            .upgini-text {\n",
              "                text-align: left;\n",
              "            }\n",
              "\n",
              "            .upgini-number {\n",
              "                text-align: center;\n",
              "            }\n",
              "        </style>\n",
              "        <h2>Relevant data sources</h2>\n",
              "        <div style=\"display:flex; flex-direction:column; align-items:flex-end; width: fit-content;\">\n",
              "            \n",
              "            <div style=\"text-align: right\">\n",
              "                <button onclick=navigator.clipboard.writeText(decodeURI('Provider%09Source%09All%20features%20SHAP%09Number%20of%20relevant%20features%0AUpgini%09AutoFE%3A%20features%20from%20%3Ca%20href%3D%27https%3A%2F%2Fupgini.com%2F%23data_sources%27%20target%3D%27_blank%27%20rel%3D%27noopener%20noreferrer%27%3ECalendar%20data%3C%2Fa%3E,%3Ca%20href%3D%27https%3A%2F%2Fupgini.com%2F%23data_sources%27%20target%3D%27_blank%27%20rel%3D%27noopener%20noreferrer%27%3EMarkets%20data%3C%2Fa%3E%090.1486%0923%0AUpgini%09Markets%20data%090.0105%093%0AUpgini%09AutoFE%3A%20features%20from%20%3Ca%20href%3D%27https%3A%2F%2Fupgini.com%2F%23data_sources%27%20target%3D%27_blank%27%20rel%3D%27noopener%20noreferrer%27%3EMarkets%20data%3C%2Fa%3E%090.0092%096%0AUpgini%09AutoFE%3A%20features%20from%20%3Ca%20href%3D%27https%3A%2F%2Fupgini.com%2F%23data_sources%27%20target%3D%27_blank%27%20rel%3D%27noopener%20noreferrer%27%3ECalendar%20data%3C%2Fa%3E%090.006%097%0AUpgini%09Calendar%20data%090.0024000000000000002%095%0AUpgini%09World%20economic%20indicators%090.0001%091%0A'))>📂 Copy</button>\n",
              "                <a href='mailto:<Share with...>?subject=Relevant external data sources from Upgini.com&body=Provider%09Source%09All%20features%20SHAP%09Number%20of%20relevant%20features%0AUpgini%09AutoFE%3A%20features%20from%20%3Ca%20href%3D%27https%3A%2F%2Fupgini.com%2F%23data_sources%27%20target%3D%27_blank%27%20rel%3D%27noopener%20noreferrer%27%3ECalendar%20data%3C%2Fa%3E,%3Ca%20href%3D%27https%3A%2F%2Fupgini.com%2F%23data_sources%27%20target%3D%27_blank%27%20rel%3D%27noopener%20noreferrer%27%3EMarkets%20data%3C%2Fa%3E%090.1486%0923%0AUpgini%09Markets%20data%090.0105%093%0AUpgini%09AutoFE%3A%20features%20from%20%3Ca%20href%3D%27https%3A%2F%2Fupgini.com%2F%23data_sources%27%20target%3D%27_blank%27%20rel%3D%27noopener%20noreferrer%27%3EMarkets%20data%3C%2Fa%3E%090.0092%096%0AUpgini%09AutoFE%3A%20features%20from%20%3Ca%20href%3D%27https%3A%2F%2Fupgini.com%2F%23data_sources%27%20target%3D%27_blank%27%20rel%3D%27noopener%20noreferrer%27%3ECalendar%20data%3C%2Fa%3E%090.006%097%0AUpgini%09Calendar%20data%090.0024000000000000002%095%0AUpgini%09World%20economic%20indicators%090.0001%091%0A'>\n",
              "                    <button>📨 Share</button>\n",
              "                </a>\n",
              "            </div>\n",
              "            <table class='upgini-df'><thead><th>Provider</th><th>Source</th><th>All features SHAP</th><th>Number of relevant features</th></thead><tbody><tr><td class='upgini-text'><a href='https://upgini.com' target='_blank' rel='noopener noreferrer'>Upgini</a></td><td class='upgini-text'>AutoFE: features from <a href='https://upgini.com/#data_sources' target='_blank' rel='noopener noreferrer'>Calendar data</a>,<a href='https://upgini.com/#data_sources' target='_blank' rel='noopener noreferrer'>Markets data</a></td><td class='upgini-number'>0.1486</td><td class='upgini-number'>23</td></tr><tr><td class='upgini-text'><a href='https://upgini.com' target='_blank' rel='noopener noreferrer'>Upgini</a></td><td class='upgini-text'><a href='https://upgini.com/#data_sources' target='_blank' rel='noopener noreferrer'>Markets data</a></td><td class='upgini-number'>0.0105</td><td class='upgini-number'>3</td></tr><tr><td class='upgini-text'><a href='https://upgini.com' target='_blank' rel='noopener noreferrer'>Upgini</a></td><td class='upgini-text'>AutoFE: features from <a href='https://upgini.com/#data_sources' target='_blank' rel='noopener noreferrer'>Markets data</a></td><td class='upgini-number'>0.0092</td><td class='upgini-number'>6</td></tr><tr><td class='upgini-text'><a href='https://upgini.com' target='_blank' rel='noopener noreferrer'>Upgini</a></td><td class='upgini-text'>AutoFE: features from <a href='https://upgini.com/#data_sources' target='_blank' rel='noopener noreferrer'>Calendar data</a></td><td class='upgini-number'>0.0060</td><td class='upgini-number'>7</td></tr><tr><td class='upgini-text'><a href='https://upgini.com' target='_blank' rel='noopener noreferrer'>Upgini</a></td><td class='upgini-text'><a href='https://upgini.com/#data_sources' target='_blank' rel='noopener noreferrer'>Calendar data</a></td><td class='upgini-number'>0.0024</td><td class='upgini-number'>5</td></tr><tr><td class='upgini-text'><a href='https://upgini.com' target='_blank' rel='noopener noreferrer'>Upgini</a></td><td class='upgini-text'><a href='https://upgini.com/#data_sources' target='_blank' rel='noopener noreferrer'>World economic indicators</a></td><td class='upgini-number'>0.0001</td><td class='upgini-number'>1</td></tr></tbody></table>\n",
              "        </div>\n",
              "        "
            ]
          },
          "metadata": {}
        },
        {
          "output_type": "display_data",
          "data": {
            "text/plain": [
              "<IPython.core.display.HTML object>"
            ],
            "text/html": [
              "<style>\n",
              "            .upgini-df thead th {\n",
              "                font-weight:bold;\n",
              "                text-align: center;\n",
              "                padding: 0.5em;\n",
              "                border-bottom: 2px solid black;\n",
              "            }\n",
              "\n",
              "            .upgini-df tbody td {\n",
              "                padding: 0.5em;\n",
              "            }\n",
              "\n",
              "            .upgini-df tbody tr:nth-child(odd) {\n",
              "                background-color: #ffffff;\n",
              "            }\n",
              "\n",
              "            .upgini-df tbody tr:nth-child(even) {\n",
              "                background-color: #f2f2f2;\n",
              "            }\n",
              "\n",
              "            .upgini-text {\n",
              "                text-align: left;\n",
              "            }\n",
              "\n",
              "            .upgini-number {\n",
              "                text-align: center;\n",
              "            }\n",
              "        </style>\n",
              "        <h2>*Description of AutoFE feature names</h2>\n",
              "        <div style=\"display:flex; flex-direction:column; align-items:flex-end; width: fit-content;\">\n",
              "            \n",
              "            <div style=\"text-align: right\">\n",
              "                <button onclick=navigator.clipboard.writeText(decodeURI('Sources%09Feature%20name%09Feature%201%09Feature%202%09Function%0A%3Ca%20href%3D%27https%3A%2F%2Fupgini.com%2F%23data_sources%27%20target%3D%27_blank%27%20rel%3D%27noopener%20noreferrer%27%3ECalendar%20data%3C%2Fa%3E,%3Ca%20href%3D%27https%3A%2F%2Fupgini.com%2F%23data_sources%27%20target%3D%27_blank%27%20rel%3D%27noopener%20noreferrer%27%3EMarkets%20data%3C%2Fa%3E%09f_autofe_div_09412fe1%09f_events_date_year_cos1_9014a856%09f_financial_date_vix_7d_to_1y_634c77eb%09%2F%0A%3Ca%20href%3D%27https%3A%2F%2Fupgini.com%2F%23data_sources%27%20target%3D%27_blank%27%20rel%3D%27noopener%20noreferrer%27%3ECalendar%20data%3C%2Fa%3E,%3Ca%20href%3D%27https%3A%2F%2Fupgini.com%2F%23data_sources%27%20target%3D%27_blank%27%20rel%3D%27noopener%20noreferrer%27%3EMarkets%20data%3C%2Fa%3E%09f_autofe_div_e04998cf%09f_events_date_year_cos1_9014a856%09f_financial_date_usd_eur_5d1b9c8f%09%2F%0A%3Ca%20href%3D%27https%3A%2F%2Fupgini.com%2F%23data_sources%27%20target%3D%27_blank%27%20rel%3D%27noopener%20noreferrer%27%3ECalendar%20data%3C%2Fa%3E,%3Ca%20href%3D%27https%3A%2F%2Fupgini.com%2F%23data_sources%27%20target%3D%27_blank%27%20rel%3D%27noopener%20noreferrer%27%3EMarkets%20data%3C%2Fa%3E%09f_autofe_mul_3f4a1860%09f_events_date_year_cos1_9014a856%09f_financial_date_crude_oil_7d_to_7d_1y_shift_718136ef%09%2A%0A%3Ca%20href%3D%27https%3A%2F%2Fupgini.com%2F%23data_sources%27%20target%3D%27_blank%27%20rel%3D%27noopener%20noreferrer%27%3ECalendar%20data%3C%2Fa%3E,%3Ca%20href%3D%27https%3A%2F%2Fupgini.com%2F%23data_sources%27%20target%3D%27_blank%27%20rel%3D%27noopener%20noreferrer%27%3EMarkets%20data%3C%2Fa%3E%09f_autofe_mul_25296268%09f_events_date_week_sin1_847b5db1%09f_financial_date_vix_7d_to_1y_634c77eb%09%2A%0A%3Ca%20href%3D%27https%3A%2F%2Fupgini.com%2F%23data_sources%27%20target%3D%27_blank%27%20rel%3D%27noopener%20noreferrer%27%3ECalendar%20data%3C%2Fa%3E,%3Ca%20href%3D%27https%3A%2F%2Fupgini.com%2F%23data_sources%27%20target%3D%27_blank%27%20rel%3D%27noopener%20noreferrer%27%3EMarkets%20data%3C%2Fa%3E%09f_autofe_mul_0cc09d2d%09f_events_date_year_cos1_9014a856%09f_financial_date_crude_oil_1f195998%09%2A%0A%3Ca%20href%3D%27https%3A%2F%2Fupgini.com%2F%23data_sources%27%20target%3D%27_blank%27%20rel%3D%27noopener%20noreferrer%27%3EMarkets%20data%3C%2Fa%3E%09f_autofe_div_0dcebab1%09f_financial_date_nasdaq_7d_to_1y_b00bfaa7%09f_financial_date_snp500_7d_to_1y_378b9f99%09%2F%0A%3Ca%20href%3D%27https%3A%2F%2Fupgini.com%2F%23data_sources%27%20target%3D%27_blank%27%20rel%3D%27noopener%20noreferrer%27%3ECalendar%20data%3C%2Fa%3E,%3Ca%20href%3D%27https%3A%2F%2Fupgini.com%2F%23data_sources%27%20target%3D%27_blank%27%20rel%3D%27noopener%20noreferrer%27%3EMarkets%20data%3C%2Fa%3E%09f_autofe_div_3e22df83%09f_events_date_week_sin1_847b5db1%09f_financial_date_crude_oil_1f195998%09%2F%0A%3Ca%20href%3D%27https%3A%2F%2Fupgini.com%2F%23data_sources%27%20target%3D%27_blank%27%20rel%3D%27noopener%20noreferrer%27%3ECalendar%20data%3C%2Fa%3E,%3Ca%20href%3D%27https%3A%2F%2Fupgini.com%2F%23data_sources%27%20target%3D%27_blank%27%20rel%3D%27noopener%20noreferrer%27%3EMarkets%20data%3C%2Fa%3E%09f_autofe_div_50a5dcaf%09f_events_date_week_cos3_7525fe31%09f_financial_date_silver_7d_to_7d_1y_shift_55fa8001%09%2F%0A%3Ca%20href%3D%27https%3A%2F%2Fupgini.com%2F%23data_sources%27%20target%3D%27_blank%27%20rel%3D%27noopener%20noreferrer%27%3ECalendar%20data%3C%2Fa%3E,%3Ca%20href%3D%27https%3A%2F%2Fupgini.com%2F%23data_sources%27%20target%3D%27_blank%27%20rel%3D%27noopener%20noreferrer%27%3EMarkets%20data%3C%2Fa%3E%09f_autofe_div_979141a9%09f_events_date_week_cos3_7525fe31%09f_financial_date_stoxx_7d_to_7d_1y_shift_abef6e91%09%2F%0A%3Ca%20href%3D%27https%3A%2F%2Fupgini.com%2F%23data_sources%27%20target%3D%27_blank%27%20rel%3D%27noopener%20noreferrer%27%3ECalendar%20data%3C%2Fa%3E,%3Ca%20href%3D%27https%3A%2F%2Fupgini.com%2F%23data_sources%27%20target%3D%27_blank%27%20rel%3D%27noopener%20noreferrer%27%3EMarkets%20data%3C%2Fa%3E%09f_autofe_div_ab7c3e47%09f_events_date_week_cos1_f6a8c1fc%09f_financial_date_stoxx_7d_to_7d_1y_shift_abef6e91%09%2F%0A%3Ca%20href%3D%27https%3A%2F%2Fupgini.com%2F%23data_sources%27%20target%3D%27_blank%27%20rel%3D%27noopener%20noreferrer%27%3ECalendar%20data%3C%2Fa%3E,%3Ca%20href%3D%27https%3A%2F%2Fupgini.com%2F%23data_sources%27%20target%3D%27_blank%27%20rel%3D%27noopener%20noreferrer%27%3EMarkets%20data%3C%2Fa%3E%09f_autofe_div_a66c2b64%09f_events_date_week_sin1_847b5db1%09f_financial_date_snp500_fdb64447%09%2F%0A%3Ca%20href%3D%27https%3A%2F%2Fupgini.com%2F%23data_sources%27%20target%3D%27_blank%27%20rel%3D%27noopener%20noreferrer%27%3ECalendar%20data%3C%2Fa%3E,%3Ca%20href%3D%27https%3A%2F%2Fupgini.com%2F%23data_sources%27%20target%3D%27_blank%27%20rel%3D%27noopener%20noreferrer%27%3EMarkets%20data%3C%2Fa%3E%09f_autofe_mul_7b115967%09f_events_date_week_cos1_f6a8c1fc%09f_financial_date_gold_7d_to_1y_ae310379%09%2A%0A%3Ca%20href%3D%27https%3A%2F%2Fupgini.com%2F%23data_sources%27%20target%3D%27_blank%27%20rel%3D%27noopener%20noreferrer%27%3ECalendar%20data%3C%2Fa%3E,%3Ca%20href%3D%27https%3A%2F%2Fupgini.com%2F%23data_sources%27%20target%3D%27_blank%27%20rel%3D%27noopener%20noreferrer%27%3EMarkets%20data%3C%2Fa%3E%09f_autofe_mul_df98a323%09f_events_date_week_cos3_7525fe31%09f_financial_date_silver_1d_to_7d_f35d6e93%09%2A%0A%3Ca%20href%3D%27https%3A%2F%2Fupgini.com%2F%23data_sources%27%20target%3D%27_blank%27%20rel%3D%27noopener%20noreferrer%27%3ECalendar%20data%3C%2Fa%3E,%3Ca%20href%3D%27https%3A%2F%2Fupgini.com%2F%23data_sources%27%20target%3D%27_blank%27%20rel%3D%27noopener%20noreferrer%27%3EMarkets%20data%3C%2Fa%3E%09f_autofe_div_0a5adf97%09f_events_date_year_cos1_9014a856%09f_financial_date_natural_gas_92dac942%09%2F%0A%3Ca%20href%3D%27https%3A%2F%2Fupgini.com%2F%23data_sources%27%20target%3D%27_blank%27%20rel%3D%27noopener%20noreferrer%27%3ECalendar%20data%3C%2Fa%3E,%3Ca%20href%3D%27https%3A%2F%2Fupgini.com%2F%23data_sources%27%20target%3D%27_blank%27%20rel%3D%27noopener%20noreferrer%27%3EMarkets%20data%3C%2Fa%3E%09f_autofe_div_89c56a5f%09f_events_date_year_cos1_9014a856%09f_financial_date_natural_gas_7d_to_7d_1y_shift_a5c3c07f%09%2F%0A%3Ca%20href%3D%27https%3A%2F%2Fupgini.com%2F%23data_sources%27%20target%3D%27_blank%27%20rel%3D%27noopener%20noreferrer%27%3ECalendar%20data%3C%2Fa%3E,%3Ca%20href%3D%27https%3A%2F%2Fupgini.com%2F%23data_sources%27%20target%3D%27_blank%27%20rel%3D%27noopener%20noreferrer%27%3EMarkets%20data%3C%2Fa%3E%09f_autofe_mul_cd42199d%09f_events_date_week_cos3_7525fe31%09f_financial_date_natural_gas_92dac942%09%2A%0A%3Ca%20href%3D%27https%3A%2F%2Fupgini.com%2F%23data_sources%27%20target%3D%27_blank%27%20rel%3D%27noopener%20noreferrer%27%3ECalendar%20data%3C%2Fa%3E,%3Ca%20href%3D%27https%3A%2F%2Fupgini.com%2F%23data_sources%27%20target%3D%27_blank%27%20rel%3D%27noopener%20noreferrer%27%3EMarkets%20data%3C%2Fa%3E%09f_autofe_div_cf5dd7be%09f_events_date_week_sin1_847b5db1%09f_financial_date_vix_7d_to_1y_634c77eb%09%2F%0A%3Ca%20href%3D%27https%3A%2F%2Fupgini.com%2F%23data_sources%27%20target%3D%27_blank%27%20rel%3D%27noopener%20noreferrer%27%3ECalendar%20data%3C%2Fa%3E%09f_autofe_div_b97cf188%09f_events_date_week_cos3_7525fe31%09f_events_date_week_sin2_e28440a5%09%2F%0A%3Ca%20href%3D%27https%3A%2F%2Fupgini.com%2F%23data_sources%27%20target%3D%27_blank%27%20rel%3D%27noopener%20noreferrer%27%3ECalendar%20data%3C%2Fa%3E%09f_autofe_mul_58cac651%09f_events_date_week_sin1_847b5db1%09f_events_date_year_cos2_7acbaf1b%09%2A%0A%3Ca%20href%3D%27https%3A%2F%2Fupgini.com%2F%23data_sources%27%20target%3D%27_blank%27%20rel%3D%27noopener%20noreferrer%27%3ECalendar%20data%3C%2Fa%3E%09f_autofe_div_ba625fe9%09f_events_date_week_sin1_847b5db1%09f_events_date_year_cos1_9014a856%09%2F%0A%3Ca%20href%3D%27https%3A%2F%2Fupgini.com%2F%23data_sources%27%20target%3D%27_blank%27%20rel%3D%27noopener%20noreferrer%27%3ECalendar%20data%3C%2Fa%3E,%3Ca%20href%3D%27https%3A%2F%2Fupgini.com%2F%23data_sources%27%20target%3D%27_blank%27%20rel%3D%27noopener%20noreferrer%27%3EMarkets%20data%3C%2Fa%3E%09f_autofe_mul_08e89348%09f_events_date_week_sin1_847b5db1%09f_financial_date_crude_oil_1f195998%09%2A%0A%3Ca%20href%3D%27https%3A%2F%2Fupgini.com%2F%23data_sources%27%20target%3D%27_blank%27%20rel%3D%27noopener%20noreferrer%27%3ECalendar%20data%3C%2Fa%3E,%3Ca%20href%3D%27https%3A%2F%2Fupgini.com%2F%23data_sources%27%20target%3D%27_blank%27%20rel%3D%27noopener%20noreferrer%27%3EMarkets%20data%3C%2Fa%3E%09f_autofe_mul_af6d166b%09f_events_date_week_cos3_7525fe31%09f_financial_date_vix_7d_to_1y_634c77eb%09%2A%0A%3Ca%20href%3D%27https%3A%2F%2Fupgini.com%2F%23data_sources%27%20target%3D%27_blank%27%20rel%3D%27noopener%20noreferrer%27%3EMarkets%20data%3C%2Fa%3E%09f_autofe_div_effd1e0b%09f_financial_date_snp500_fdb64447%09f_financial_date_usd_7d_to_1y_9cbe7ef8%09%2F%0A%3Ca%20href%3D%27https%3A%2F%2Fupgini.com%2F%23data_sources%27%20target%3D%27_blank%27%20rel%3D%27noopener%20noreferrer%27%3ECalendar%20data%3C%2Fa%3E,%3Ca%20href%3D%27https%3A%2F%2Fupgini.com%2F%23data_sources%27%20target%3D%27_blank%27%20rel%3D%27noopener%20noreferrer%27%3EMarkets%20data%3C%2Fa%3E%09f_autofe_div_86414197%09f_events_date_week_cos2_b0a07cfc%09f_financial_date_usd_eur_7d_to_7d_1y_shift_05302176%09%2F%0A%3Ca%20href%3D%27https%3A%2F%2Fupgini.com%2F%23data_sources%27%20target%3D%27_blank%27%20rel%3D%27noopener%20noreferrer%27%3ECalendar%20data%3C%2Fa%3E,%3Ca%20href%3D%27https%3A%2F%2Fupgini.com%2F%23data_sources%27%20target%3D%27_blank%27%20rel%3D%27noopener%20noreferrer%27%3EMarkets%20data%3C%2Fa%3E%09f_autofe_div_3a59c948%09f_events_date_week_cos1_f6a8c1fc%09f_financial_date_usd_eur_7d_to_7d_1y_shift_05302176%09%2F%0A%3Ca%20href%3D%27https%3A%2F%2Fupgini.com%2F%23data_sources%27%20target%3D%27_blank%27%20rel%3D%27noopener%20noreferrer%27%3ECalendar%20data%3C%2Fa%3E%09f_autofe_mul_5feff686%09f_events_date_year_cos1_9014a856%09f_events_date_year_cos2_7acbaf1b%09%2A%0A%3Ca%20href%3D%27https%3A%2F%2Fupgini.com%2F%23data_sources%27%20target%3D%27_blank%27%20rel%3D%27noopener%20noreferrer%27%3ECalendar%20data%3C%2Fa%3E%09f_autofe_mul_7fc70d87%09f_events_date_week_cos1_f6a8c1fc%09f_events_date_year_cos1_9014a856%09%2A%0A%3Ca%20href%3D%27https%3A%2F%2Fupgini.com%2F%23data_sources%27%20target%3D%27_blank%27%20rel%3D%27noopener%20noreferrer%27%3ECalendar%20data%3C%2Fa%3E%09f_autofe_mul_f018fe89%09f_events_date_week_cos2_b0a07cfc%09f_events_date_year_cos1_9014a856%09%2A%0A%3Ca%20href%3D%27https%3A%2F%2Fupgini.com%2F%23data_sources%27%20target%3D%27_blank%27%20rel%3D%27noopener%20noreferrer%27%3EMarkets%20data%3C%2Fa%3E%09f_autofe_div_115af392%09f_financial_date_stoxx_043cbcd4%09f_financial_date_usd_eur_7d_to_7d_1y_shift_05302176%09%2F%0A%3Ca%20href%3D%27https%3A%2F%2Fupgini.com%2F%23data_sources%27%20target%3D%27_blank%27%20rel%3D%27noopener%20noreferrer%27%3ECalendar%20data%3C%2Fa%3E,%3Ca%20href%3D%27https%3A%2F%2Fupgini.com%2F%23data_sources%27%20target%3D%27_blank%27%20rel%3D%27noopener%20noreferrer%27%3EMarkets%20data%3C%2Fa%3E%09f_autofe_mul_69439562%09f_events_date_year_sin2_59955ffd%09f_financial_date_gold_bf71e733%09%2A%0A%3Ca%20href%3D%27https%3A%2F%2Fupgini.com%2F%23data_sources%27%20target%3D%27_blank%27%20rel%3D%27noopener%20noreferrer%27%3EMarkets%20data%3C%2Fa%3E%09f_autofe_mul_3a233471%09f_financial_date_snp500_7d_to_7d_1y_shift_fa788602%09f_financial_date_vix_7d_to_1y_634c77eb%09%2A%0A%3Ca%20href%3D%27https%3A%2F%2Fupgini.com%2F%23data_sources%27%20target%3D%27_blank%27%20rel%3D%27noopener%20noreferrer%27%3ECalendar%20data%3C%2Fa%3E,%3Ca%20href%3D%27https%3A%2F%2Fupgini.com%2F%23data_sources%27%20target%3D%27_blank%27%20rel%3D%27noopener%20noreferrer%27%3EMarkets%20data%3C%2Fa%3E%09f_autofe_div_1d266053%09f_events_date_week_cos3_7525fe31%09f_financial_date_crude_oil_7d_to_1y_c3e0ad17%09%2F%0A%3Ca%20href%3D%27https%3A%2F%2Fupgini.com%2F%23data_sources%27%20target%3D%27_blank%27%20rel%3D%27noopener%20noreferrer%27%3ECalendar%20data%3C%2Fa%3E%09f_autofe_mul_a4d34ac2%09f_events_date_year_cos5_59183b20%09f_events_date_year_sin1_3c44bc64%09%2A%0A%3Ca%20href%3D%27https%3A%2F%2Fupgini.com%2F%23data_sources%27%20target%3D%27_blank%27%20rel%3D%27noopener%20noreferrer%27%3ECalendar%20data%3C%2Fa%3E,%3Ca%20href%3D%27https%3A%2F%2Fupgini.com%2F%23data_sources%27%20target%3D%27_blank%27%20rel%3D%27noopener%20noreferrer%27%3EMarkets%20data%3C%2Fa%3E%09f_autofe_div_60e9ccbb%09f_events_date_year_sin1_3c44bc64%09f_financial_date_vix_7d_to_1y_634c77eb%09%2F%0A%3Ca%20href%3D%27https%3A%2F%2Fupgini.com%2F%23data_sources%27%20target%3D%27_blank%27%20rel%3D%27noopener%20noreferrer%27%3EMarkets%20data%3C%2Fa%3E%09f_autofe_div_ff73d45e%09f_financial_date_nasdaq_7d_to_1y_b00bfaa7%09f_financial_date_stoxx_7d_to_1y_2ea815f4%09%2F%0A%3Ca%20href%3D%27https%3A%2F%2Fupgini.com%2F%23data_sources%27%20target%3D%27_blank%27%20rel%3D%27noopener%20noreferrer%27%3EMarkets%20data%3C%2Fa%3E%09f_autofe_mul_4c9c7d0a%09f_financial_date_natural_gas_7d_to_1y_7a6f300d%09f_financial_date_silver_7d_to_7d_1y_shift_55fa8001%09%2A%0A'))>📂 Copy</button>\n",
              "                <a href='mailto:<Share with...>?subject=Relevant external data sources from Upgini.com&body=Sources%09Feature%20name%09Feature%201%09Feature%202%09Function%0A%3Ca%20href%3D%27https%3A%2F%2Fupgini.com%2F%23data_sources%27%20target%3D%27_blank%27%20rel%3D%27noopener%20noreferrer%27%3ECalendar%20data%3C%2Fa%3E,%3Ca%20href%3D%27https%3A%2F%2Fupgini.com%2F%23data_sources%27%20target%3D%27_blank%27%20rel%3D%27noopener%20noreferrer%27%3EMarkets%20data%3C%2Fa%3E%09f_autofe_div_09412fe1%09f_events_date_year_cos1_9014a856%09f_financial_date_vix_7d_to_1y_634c77eb%09%2F%0A%3Ca%20href%3D%27https%3A%2F%2Fupgini.com%2F%23data_sources%27%20target%3D%27_blank%27%20rel%3D%27noopener%20noreferrer%27%3ECalendar%20data%3C%2Fa%3E,%3Ca%20href%3D%27https%3A%2F%2Fupgini.com%2F%23data_sources%27%20target%3D%27_blank%27%20rel%3D%27noopener%20noreferrer%27%3EMarkets%20data%3C%2Fa%3E%09f_autofe_div_e04998cf%09f_events_date_year_cos1_9014a856%09f_financial_date_usd_eur_5d1b9c8f%09%2F%0A%3Ca%20href%3D%27https%3A%2F%2Fupgini.com%2F%23data_sources%27%20target%3D%27_blank%27%20rel%3D%27noopener%20noreferrer%27%3ECalendar%20data%3C%2Fa%3E,%3Ca%20href%3D%27https%3A%2F%2Fupgini.com%2F%23data_sources%27%20target%3D%27_blank%27%20rel%3D%27noopener%20noreferrer%27%3EMarkets%20data%3C%2Fa%3E%09f_autofe_mul_3f4a1860%09f_events_date_year_cos1_9014a856%09f_financial_date_crude_oil_7d_to_7d_1y_shift_718136ef%09%2A%0A%3Ca%20href%3D%27https%3A%2F%2Fupgini.com%2F%23data_sources%27%20target%3D%27_blank%27%20rel%3D%27noopener%20noreferrer%27%3ECalendar%20data%3C%2Fa%3E,%3Ca%20href%3D%27https%3A%2F%2Fupgini.com%2F%23data_sources%27%20target%3D%27_blank%27%20rel%3D%27noopener%20noreferrer%27%3EMarkets%20data%3C%2Fa%3E%09f_autofe_mul_25296268%09f_events_date_week_sin1_847b5db1%09f_financial_date_vix_7d_to_1y_634c77eb%09%2A%0A%3Ca%20href%3D%27https%3A%2F%2Fupgini.com%2F%23data_sources%27%20target%3D%27_blank%27%20rel%3D%27noopener%20noreferrer%27%3ECalendar%20data%3C%2Fa%3E,%3Ca%20href%3D%27https%3A%2F%2Fupgini.com%2F%23data_sources%27%20target%3D%27_blank%27%20rel%3D%27noopener%20noreferrer%27%3EMarkets%20data%3C%2Fa%3E%09f_autofe_mul_0cc09d2d%09f_events_date_year_cos1_9014a856%09f_financial_date_crude_oil_1f195998%09%2A%0A%3Ca%20href%3D%27https%3A%2F%2Fupgini.com%2F%23data_sources%27%20target%3D%27_blank%27%20rel%3D%27noopener%20noreferrer%27%3EMarkets%20data%3C%2Fa%3E%09f_autofe_div_0dcebab1%09f_financial_date_nasdaq_7d_to_1y_b00bfaa7%09f_financial_date_snp500_7d_to_1y_378b9f99%09%2F%0A%3Ca%20href%3D%27https%3A%2F%2Fupgini.com%2F%23data_sources%27%20target%3D%27_blank%27%20rel%3D%27noopener%20noreferrer%27%3ECalendar%20data%3C%2Fa%3E,%3Ca%20href%3D%27https%3A%2F%2Fupgini.com%2F%23data_sources%27%20target%3D%27_blank%27%20rel%3D%27noopener%20noreferrer%27%3EMarkets%20data%3C%2Fa%3E%09f_autofe_div_3e22df83%09f_events_date_week_sin1_847b5db1%09f_financial_date_crude_oil_1f195998%09%2F%0A%3Ca%20href%3D%27https%3A%2F%2Fupgini.com%2F%23data_sources%27%20target%3D%27_blank%27%20rel%3D%27noopener%20noreferrer%27%3ECalendar%20data%3C%2Fa%3E,%3Ca%20href%3D%27https%3A%2F%2Fupgini.com%2F%23data_sources%27%20target%3D%27_blank%27%20rel%3D%27noopener%20noreferrer%27%3EMarkets%20data%3C%2Fa%3E%09f_autofe_div_50a5dcaf%09f_events_date_week_cos3_7525fe31%09f_financial_date_silver_7d_to_7d_1y_shift_55fa8001%09%2F%0A%3Ca%20href%3D%27https%3A%2F%2Fupgini.com%2F%23data_sources%27%20target%3D%27_blank%27%20rel%3D%27noopener%20noreferrer%27%3ECalendar%20data%3C%2Fa%3E,%3Ca%20href%3D%27https%3A%2F%2Fupgini.com%2F%23data_sources%27%20target%3D%27_blank%27%20rel%3D%27noopener%20noreferrer%27%3EMarkets%20data%3C%2Fa%3E%09f_autofe_div_979141a9%09f_events_date_week_cos3_7525fe31%09f_financial_date_stoxx_7d_to_7d_1y_shift_abef6e91%09%2F%0A%3Ca%20href%3D%27https%3A%2F%2Fupgini.com%2F%23data_sources%27%20target%3D%27_blank%27%20rel%3D%27noopener%20noreferrer%27%3ECalendar%20data%3C%2Fa%3E,%3Ca%20href%3D%27https%3A%2F%2Fupgini.com%2F%23data_sources%27%20target%3D%27_blank%27%20rel%3D%27noopener%20noreferrer%27%3EMarkets%20data%3C%2Fa%3E%09f_autofe_div_ab7c3e47%09f_events_date_week_cos1_f6a8c1fc%09f_financial_date_stoxx_7d_to_7d_1y_shift_abef6e91%09%2F%0A%3Ca%20href%3D%27https%3A%2F%2Fupgini.com%2F%23data_sources%27%20target%3D%27_blank%27%20rel%3D%27noopener%20noreferrer%27%3ECalendar%20data%3C%2Fa%3E,%3Ca%20href%3D%27https%3A%2F%2Fupgini.com%2F%23data_sources%27%20target%3D%27_blank%27%20rel%3D%27noopener%20noreferrer%27%3EMarkets%20data%3C%2Fa%3E%09f_autofe_div_a66c2b64%09f_events_date_week_sin1_847b5db1%09f_financial_date_snp500_fdb64447%09%2F%0A%3Ca%20href%3D%27https%3A%2F%2Fupgini.com%2F%23data_sources%27%20target%3D%27_blank%27%20rel%3D%27noopener%20noreferrer%27%3ECalendar%20data%3C%2Fa%3E,%3Ca%20href%3D%27https%3A%2F%2Fupgini.com%2F%23data_sources%27%20target%3D%27_blank%27%20rel%3D%27noopener%20noreferrer%27%3EMarkets%20data%3C%2Fa%3E%09f_autofe_mul_7b115967%09f_events_date_week_cos1_f6a8c1fc%09f_financial_date_gold_7d_to_1y_ae310379%09%2A%0A%3Ca%20href%3D%27https%3A%2F%2Fupgini.com%2F%23data_sources%27%20target%3D%27_blank%27%20rel%3D%27noopener%20noreferrer%27%3ECalendar%20data%3C%2Fa%3E,%3Ca%20href%3D%27https%3A%2F%2Fupgini.com%2F%23data_sources%27%20target%3D%27_blank%27%20rel%3D%27noopener%20noreferrer%27%3EMarkets%20data%3C%2Fa%3E%09f_autofe_mul_df98a323%09f_events_date_week_cos3_7525fe31%09f_financial_date_silver_1d_to_7d_f35d6e93%09%2A%0A%3Ca%20href%3D%27https%3A%2F%2Fupgini.com%2F%23data_sources%27%20target%3D%27_blank%27%20rel%3D%27noopener%20noreferrer%27%3ECalendar%20data%3C%2Fa%3E,%3Ca%20href%3D%27https%3A%2F%2Fupgini.com%2F%23data_sources%27%20target%3D%27_blank%27%20rel%3D%27noopener%20noreferrer%27%3EMarkets%20data%3C%2Fa%3E%09f_autofe_div_0a5adf97%09f_events_date_year_cos1_9014a856%09f_financial_date_natural_gas_92dac942%09%2F%0A%3Ca%20href%3D%27https%3A%2F%2Fupgini.com%2F%23data_sources%27%20target%3D%27_blank%27%20rel%3D%27noopener%20noreferrer%27%3ECalendar%20data%3C%2Fa%3E,%3Ca%20href%3D%27https%3A%2F%2Fupgini.com%2F%23data_sources%27%20target%3D%27_blank%27%20rel%3D%27noopener%20noreferrer%27%3EMarkets%20data%3C%2Fa%3E%09f_autofe_div_89c56a5f%09f_events_date_year_cos1_9014a856%09f_financial_date_natural_gas_7d_to_7d_1y_shift_a5c3c07f%09%2F%0A%3Ca%20href%3D%27https%3A%2F%2Fupgini.com%2F%23data_sources%27%20target%3D%27_blank%27%20rel%3D%27noopener%20noreferrer%27%3ECalendar%20data%3C%2Fa%3E,%3Ca%20href%3D%27https%3A%2F%2Fupgini.com%2F%23data_sources%27%20target%3D%27_blank%27%20rel%3D%27noopener%20noreferrer%27%3EMarkets%20data%3C%2Fa%3E%09f_autofe_mul_cd42199d%09f_events_date_week_cos3_7525fe31%09f_financial_date_natural_gas_92dac942%09%2A%0A%3Ca%20href%3D%27https%3A%2F%2Fupgini.com%2F%23data_sources%27%20target%3D%27_blank%27%20rel%3D%27noopener%20noreferrer%27%3ECalendar%20data%3C%2Fa%3E,%3Ca%20href%3D%27https%3A%2F%2Fupgini.com%2F%23data_sources%27%20target%3D%27_blank%27%20rel%3D%27noopener%20noreferrer%27%3EMarkets%20data%3C%2Fa%3E%09f_autofe_div_cf5dd7be%09f_events_date_week_sin1_847b5db1%09f_financial_date_vix_7d_to_1y_634c77eb%09%2F%0A%3Ca%20href%3D%27https%3A%2F%2Fupgini.com%2F%23data_sources%27%20target%3D%27_blank%27%20rel%3D%27noopener%20noreferrer%27%3ECalendar%20data%3C%2Fa%3E%09f_autofe_div_b97cf188%09f_events_date_week_cos3_7525fe31%09f_events_date_week_sin2_e28440a5%09%2F%0A%3Ca%20href%3D%27https%3A%2F%2Fupgini.com%2F%23data_sources%27%20target%3D%27_blank%27%20rel%3D%27noopener%20noreferrer%27%3ECalendar%20data%3C%2Fa%3E%09f_autofe_mul_58cac651%09f_events_date_week_sin1_847b5db1%09f_events_date_year_cos2_7acbaf1b%09%2A%0A%3Ca%20href%3D%27https%3A%2F%2Fupgini.com%2F%23data_sources%27%20target%3D%27_blank%27%20rel%3D%27noopener%20noreferrer%27%3ECalendar%20data%3C%2Fa%3E%09f_autofe_div_ba625fe9%09f_events_date_week_sin1_847b5db1%09f_events_date_year_cos1_9014a856%09%2F%0A%3Ca%20href%3D%27https%3A%2F%2Fupgini.com%2F%23data_sources%27%20target%3D%27_blank%27%20rel%3D%27noopener%20noreferrer%27%3ECalendar%20data%3C%2Fa%3E,%3Ca%20href%3D%27https%3A%2F%2Fupgini.com%2F%23data_sources%27%20target%3D%27_blank%27%20rel%3D%27noopener%20noreferrer%27%3EMarkets%20data%3C%2Fa%3E%09f_autofe_mul_08e89348%09f_events_date_week_sin1_847b5db1%09f_financial_date_crude_oil_1f195998%09%2A%0A%3Ca%20href%3D%27https%3A%2F%2Fupgini.com%2F%23data_sources%27%20target%3D%27_blank%27%20rel%3D%27noopener%20noreferrer%27%3ECalendar%20data%3C%2Fa%3E,%3Ca%20href%3D%27https%3A%2F%2Fupgini.com%2F%23data_sources%27%20target%3D%27_blank%27%20rel%3D%27noopener%20noreferrer%27%3EMarkets%20data%3C%2Fa%3E%09f_autofe_mul_af6d166b%09f_events_date_week_cos3_7525fe31%09f_financial_date_vix_7d_to_1y_634c77eb%09%2A%0A%3Ca%20href%3D%27https%3A%2F%2Fupgini.com%2F%23data_sources%27%20target%3D%27_blank%27%20rel%3D%27noopener%20noreferrer%27%3EMarkets%20data%3C%2Fa%3E%09f_autofe_div_effd1e0b%09f_financial_date_snp500_fdb64447%09f_financial_date_usd_7d_to_1y_9cbe7ef8%09%2F%0A%3Ca%20href%3D%27https%3A%2F%2Fupgini.com%2F%23data_sources%27%20target%3D%27_blank%27%20rel%3D%27noopener%20noreferrer%27%3ECalendar%20data%3C%2Fa%3E,%3Ca%20href%3D%27https%3A%2F%2Fupgini.com%2F%23data_sources%27%20target%3D%27_blank%27%20rel%3D%27noopener%20noreferrer%27%3EMarkets%20data%3C%2Fa%3E%09f_autofe_div_86414197%09f_events_date_week_cos2_b0a07cfc%09f_financial_date_usd_eur_7d_to_7d_1y_shift_05302176%09%2F%0A%3Ca%20href%3D%27https%3A%2F%2Fupgini.com%2F%23data_sources%27%20target%3D%27_blank%27%20rel%3D%27noopener%20noreferrer%27%3ECalendar%20data%3C%2Fa%3E,%3Ca%20href%3D%27https%3A%2F%2Fupgini.com%2F%23data_sources%27%20target%3D%27_blank%27%20rel%3D%27noopener%20noreferrer%27%3EMarkets%20data%3C%2Fa%3E%09f_autofe_div_3a59c948%09f_events_date_week_cos1_f6a8c1fc%09f_financial_date_usd_eur_7d_to_7d_1y_shift_05302176%09%2F%0A%3Ca%20href%3D%27https%3A%2F%2Fupgini.com%2F%23data_sources%27%20target%3D%27_blank%27%20rel%3D%27noopener%20noreferrer%27%3ECalendar%20data%3C%2Fa%3E%09f_autofe_mul_5feff686%09f_events_date_year_cos1_9014a856%09f_events_date_year_cos2_7acbaf1b%09%2A%0A%3Ca%20href%3D%27https%3A%2F%2Fupgini.com%2F%23data_sources%27%20target%3D%27_blank%27%20rel%3D%27noopener%20noreferrer%27%3ECalendar%20data%3C%2Fa%3E%09f_autofe_mul_7fc70d87%09f_events_date_week_cos1_f6a8c1fc%09f_events_date_year_cos1_9014a856%09%2A%0A%3Ca%20href%3D%27https%3A%2F%2Fupgini.com%2F%23data_sources%27%20target%3D%27_blank%27%20rel%3D%27noopener%20noreferrer%27%3ECalendar%20data%3C%2Fa%3E%09f_autofe_mul_f018fe89%09f_events_date_week_cos2_b0a07cfc%09f_events_date_year_cos1_9014a856%09%2A%0A%3Ca%20href%3D%27https%3A%2F%2Fupgini.com%2F%23data_sources%27%20target%3D%27_blank%27%20rel%3D%27noopener%20noreferrer%27%3EMarkets%20data%3C%2Fa%3E%09f_autofe_div_115af392%09f_financial_date_stoxx_043cbcd4%09f_financial_date_usd_eur_7d_to_7d_1y_shift_05302176%09%2F%0A%3Ca%20href%3D%27https%3A%2F%2Fupgini.com%2F%23data_sources%27%20target%3D%27_blank%27%20rel%3D%27noopener%20noreferrer%27%3ECalendar%20data%3C%2Fa%3E,%3Ca%20href%3D%27https%3A%2F%2Fupgini.com%2F%23data_sources%27%20target%3D%27_blank%27%20rel%3D%27noopener%20noreferrer%27%3EMarkets%20data%3C%2Fa%3E%09f_autofe_mul_69439562%09f_events_date_year_sin2_59955ffd%09f_financial_date_gold_bf71e733%09%2A%0A%3Ca%20href%3D%27https%3A%2F%2Fupgini.com%2F%23data_sources%27%20target%3D%27_blank%27%20rel%3D%27noopener%20noreferrer%27%3EMarkets%20data%3C%2Fa%3E%09f_autofe_mul_3a233471%09f_financial_date_snp500_7d_to_7d_1y_shift_fa788602%09f_financial_date_vix_7d_to_1y_634c77eb%09%2A%0A%3Ca%20href%3D%27https%3A%2F%2Fupgini.com%2F%23data_sources%27%20target%3D%27_blank%27%20rel%3D%27noopener%20noreferrer%27%3ECalendar%20data%3C%2Fa%3E,%3Ca%20href%3D%27https%3A%2F%2Fupgini.com%2F%23data_sources%27%20target%3D%27_blank%27%20rel%3D%27noopener%20noreferrer%27%3EMarkets%20data%3C%2Fa%3E%09f_autofe_div_1d266053%09f_events_date_week_cos3_7525fe31%09f_financial_date_crude_oil_7d_to_1y_c3e0ad17%09%2F%0A%3Ca%20href%3D%27https%3A%2F%2Fupgini.com%2F%23data_sources%27%20target%3D%27_blank%27%20rel%3D%27noopener%20noreferrer%27%3ECalendar%20data%3C%2Fa%3E%09f_autofe_mul_a4d34ac2%09f_events_date_year_cos5_59183b20%09f_events_date_year_sin1_3c44bc64%09%2A%0A%3Ca%20href%3D%27https%3A%2F%2Fupgini.com%2F%23data_sources%27%20target%3D%27_blank%27%20rel%3D%27noopener%20noreferrer%27%3ECalendar%20data%3C%2Fa%3E,%3Ca%20href%3D%27https%3A%2F%2Fupgini.com%2F%23data_sources%27%20target%3D%27_blank%27%20rel%3D%27noopener%20noreferrer%27%3EMarkets%20data%3C%2Fa%3E%09f_autofe_div_60e9ccbb%09f_events_date_year_sin1_3c44bc64%09f_financial_date_vix_7d_to_1y_634c77eb%09%2F%0A%3Ca%20href%3D%27https%3A%2F%2Fupgini.com%2F%23data_sources%27%20target%3D%27_blank%27%20rel%3D%27noopener%20noreferrer%27%3EMarkets%20data%3C%2Fa%3E%09f_autofe_div_ff73d45e%09f_financial_date_nasdaq_7d_to_1y_b00bfaa7%09f_financial_date_stoxx_7d_to_1y_2ea815f4%09%2F%0A%3Ca%20href%3D%27https%3A%2F%2Fupgini.com%2F%23data_sources%27%20target%3D%27_blank%27%20rel%3D%27noopener%20noreferrer%27%3EMarkets%20data%3C%2Fa%3E%09f_autofe_mul_4c9c7d0a%09f_financial_date_natural_gas_7d_to_1y_7a6f300d%09f_financial_date_silver_7d_to_7d_1y_shift_55fa8001%09%2A%0A'>\n",
              "                    <button>📨 Share</button>\n",
              "                </a>\n",
              "            </div>\n",
              "            <table class='upgini-df'><thead><th>Sources</th><th>Feature name</th><th>Feature 1</th><th>Feature 2</th><th>Function</th></thead><tbody><tr><td class='upgini-text'><a href='https://upgini.com/#data_sources' target='_blank' rel='noopener noreferrer'>Calendar data</a>,<a href='https://upgini.com/#data_sources' target='_blank' rel='noopener noreferrer'>Markets data</a></td><td class='upgini-text'>f_autofe_div_09412fe1</td><td class='upgini-text'>f_events_date_year_cos1_9014a856</td><td class='upgini-text'>f_financial_date_vix_7d_to_1y_634c77eb</td><td class='upgini-text'>/</td></tr><tr><td class='upgini-text'><a href='https://upgini.com/#data_sources' target='_blank' rel='noopener noreferrer'>Calendar data</a>,<a href='https://upgini.com/#data_sources' target='_blank' rel='noopener noreferrer'>Markets data</a></td><td class='upgini-text'>f_autofe_div_e04998cf</td><td class='upgini-text'>f_events_date_year_cos1_9014a856</td><td class='upgini-text'>f_financial_date_usd_eur_5d1b9c8f</td><td class='upgini-text'>/</td></tr><tr><td class='upgini-text'><a href='https://upgini.com/#data_sources' target='_blank' rel='noopener noreferrer'>Calendar data</a>,<a href='https://upgini.com/#data_sources' target='_blank' rel='noopener noreferrer'>Markets data</a></td><td class='upgini-text'>f_autofe_mul_3f4a1860</td><td class='upgini-text'>f_events_date_year_cos1_9014a856</td><td class='upgini-text'>f_financial_date_crude_oil_7d_to_7d_1y_shift_718136ef</td><td class='upgini-text'>*</td></tr><tr><td class='upgini-text'><a href='https://upgini.com/#data_sources' target='_blank' rel='noopener noreferrer'>Calendar data</a>,<a href='https://upgini.com/#data_sources' target='_blank' rel='noopener noreferrer'>Markets data</a></td><td class='upgini-text'>f_autofe_mul_25296268</td><td class='upgini-text'>f_events_date_week_sin1_847b5db1</td><td class='upgini-text'>f_financial_date_vix_7d_to_1y_634c77eb</td><td class='upgini-text'>*</td></tr><tr><td class='upgini-text'><a href='https://upgini.com/#data_sources' target='_blank' rel='noopener noreferrer'>Calendar data</a>,<a href='https://upgini.com/#data_sources' target='_blank' rel='noopener noreferrer'>Markets data</a></td><td class='upgini-text'>f_autofe_mul_0cc09d2d</td><td class='upgini-text'>f_events_date_year_cos1_9014a856</td><td class='upgini-text'>f_financial_date_crude_oil_1f195998</td><td class='upgini-text'>*</td></tr><tr><td class='upgini-text'><a href='https://upgini.com/#data_sources' target='_blank' rel='noopener noreferrer'>Markets data</a></td><td class='upgini-text'>f_autofe_div_0dcebab1</td><td class='upgini-text'>f_financial_date_nasdaq_7d_to_1y_b00bfaa7</td><td class='upgini-text'>f_financial_date_snp500_7d_to_1y_378b9f99</td><td class='upgini-text'>/</td></tr><tr><td class='upgini-text'><a href='https://upgini.com/#data_sources' target='_blank' rel='noopener noreferrer'>Calendar data</a>,<a href='https://upgini.com/#data_sources' target='_blank' rel='noopener noreferrer'>Markets data</a></td><td class='upgini-text'>f_autofe_div_3e22df83</td><td class='upgini-text'>f_events_date_week_sin1_847b5db1</td><td class='upgini-text'>f_financial_date_crude_oil_1f195998</td><td class='upgini-text'>/</td></tr><tr><td class='upgini-text'><a href='https://upgini.com/#data_sources' target='_blank' rel='noopener noreferrer'>Calendar data</a>,<a href='https://upgini.com/#data_sources' target='_blank' rel='noopener noreferrer'>Markets data</a></td><td class='upgini-text'>f_autofe_div_50a5dcaf</td><td class='upgini-text'>f_events_date_week_cos3_7525fe31</td><td class='upgini-text'>f_financial_date_silver_7d_to_7d_1y_shift_55fa8001</td><td class='upgini-text'>/</td></tr><tr><td class='upgini-text'><a href='https://upgini.com/#data_sources' target='_blank' rel='noopener noreferrer'>Calendar data</a>,<a href='https://upgini.com/#data_sources' target='_blank' rel='noopener noreferrer'>Markets data</a></td><td class='upgini-text'>f_autofe_div_979141a9</td><td class='upgini-text'>f_events_date_week_cos3_7525fe31</td><td class='upgini-text'>f_financial_date_stoxx_7d_to_7d_1y_shift_abef6e91</td><td class='upgini-text'>/</td></tr><tr><td class='upgini-text'><a href='https://upgini.com/#data_sources' target='_blank' rel='noopener noreferrer'>Calendar data</a>,<a href='https://upgini.com/#data_sources' target='_blank' rel='noopener noreferrer'>Markets data</a></td><td class='upgini-text'>f_autofe_div_ab7c3e47</td><td class='upgini-text'>f_events_date_week_cos1_f6a8c1fc</td><td class='upgini-text'>f_financial_date_stoxx_7d_to_7d_1y_shift_abef6e91</td><td class='upgini-text'>/</td></tr><tr><td class='upgini-text'><a href='https://upgini.com/#data_sources' target='_blank' rel='noopener noreferrer'>Calendar data</a>,<a href='https://upgini.com/#data_sources' target='_blank' rel='noopener noreferrer'>Markets data</a></td><td class='upgini-text'>f_autofe_div_a66c2b64</td><td class='upgini-text'>f_events_date_week_sin1_847b5db1</td><td class='upgini-text'>f_financial_date_snp500_fdb64447</td><td class='upgini-text'>/</td></tr><tr><td class='upgini-text'><a href='https://upgini.com/#data_sources' target='_blank' rel='noopener noreferrer'>Calendar data</a>,<a href='https://upgini.com/#data_sources' target='_blank' rel='noopener noreferrer'>Markets data</a></td><td class='upgini-text'>f_autofe_mul_7b115967</td><td class='upgini-text'>f_events_date_week_cos1_f6a8c1fc</td><td class='upgini-text'>f_financial_date_gold_7d_to_1y_ae310379</td><td class='upgini-text'>*</td></tr><tr><td class='upgini-text'><a href='https://upgini.com/#data_sources' target='_blank' rel='noopener noreferrer'>Calendar data</a>,<a href='https://upgini.com/#data_sources' target='_blank' rel='noopener noreferrer'>Markets data</a></td><td class='upgini-text'>f_autofe_mul_df98a323</td><td class='upgini-text'>f_events_date_week_cos3_7525fe31</td><td class='upgini-text'>f_financial_date_silver_1d_to_7d_f35d6e93</td><td class='upgini-text'>*</td></tr><tr><td class='upgini-text'><a href='https://upgini.com/#data_sources' target='_blank' rel='noopener noreferrer'>Calendar data</a>,<a href='https://upgini.com/#data_sources' target='_blank' rel='noopener noreferrer'>Markets data</a></td><td class='upgini-text'>f_autofe_div_0a5adf97</td><td class='upgini-text'>f_events_date_year_cos1_9014a856</td><td class='upgini-text'>f_financial_date_natural_gas_92dac942</td><td class='upgini-text'>/</td></tr><tr><td class='upgini-text'><a href='https://upgini.com/#data_sources' target='_blank' rel='noopener noreferrer'>Calendar data</a>,<a href='https://upgini.com/#data_sources' target='_blank' rel='noopener noreferrer'>Markets data</a></td><td class='upgini-text'>f_autofe_div_89c56a5f</td><td class='upgini-text'>f_events_date_year_cos1_9014a856</td><td class='upgini-text'>f_financial_date_natural_gas_7d_to_7d_1y_shift_a5c3c07f</td><td class='upgini-text'>/</td></tr><tr><td class='upgini-text'><a href='https://upgini.com/#data_sources' target='_blank' rel='noopener noreferrer'>Calendar data</a>,<a href='https://upgini.com/#data_sources' target='_blank' rel='noopener noreferrer'>Markets data</a></td><td class='upgini-text'>f_autofe_mul_cd42199d</td><td class='upgini-text'>f_events_date_week_cos3_7525fe31</td><td class='upgini-text'>f_financial_date_natural_gas_92dac942</td><td class='upgini-text'>*</td></tr><tr><td class='upgini-text'><a href='https://upgini.com/#data_sources' target='_blank' rel='noopener noreferrer'>Calendar data</a>,<a href='https://upgini.com/#data_sources' target='_blank' rel='noopener noreferrer'>Markets data</a></td><td class='upgini-text'>f_autofe_div_cf5dd7be</td><td class='upgini-text'>f_events_date_week_sin1_847b5db1</td><td class='upgini-text'>f_financial_date_vix_7d_to_1y_634c77eb</td><td class='upgini-text'>/</td></tr><tr><td class='upgini-text'><a href='https://upgini.com/#data_sources' target='_blank' rel='noopener noreferrer'>Calendar data</a></td><td class='upgini-text'>f_autofe_div_b97cf188</td><td class='upgini-text'>f_events_date_week_cos3_7525fe31</td><td class='upgini-text'>f_events_date_week_sin2_e28440a5</td><td class='upgini-text'>/</td></tr><tr><td class='upgini-text'><a href='https://upgini.com/#data_sources' target='_blank' rel='noopener noreferrer'>Calendar data</a></td><td class='upgini-text'>f_autofe_mul_58cac651</td><td class='upgini-text'>f_events_date_week_sin1_847b5db1</td><td class='upgini-text'>f_events_date_year_cos2_7acbaf1b</td><td class='upgini-text'>*</td></tr><tr><td class='upgini-text'><a href='https://upgini.com/#data_sources' target='_blank' rel='noopener noreferrer'>Calendar data</a></td><td class='upgini-text'>f_autofe_div_ba625fe9</td><td class='upgini-text'>f_events_date_week_sin1_847b5db1</td><td class='upgini-text'>f_events_date_year_cos1_9014a856</td><td class='upgini-text'>/</td></tr><tr><td class='upgini-text'><a href='https://upgini.com/#data_sources' target='_blank' rel='noopener noreferrer'>Calendar data</a>,<a href='https://upgini.com/#data_sources' target='_blank' rel='noopener noreferrer'>Markets data</a></td><td class='upgini-text'>f_autofe_mul_08e89348</td><td class='upgini-text'>f_events_date_week_sin1_847b5db1</td><td class='upgini-text'>f_financial_date_crude_oil_1f195998</td><td class='upgini-text'>*</td></tr><tr><td class='upgini-text'><a href='https://upgini.com/#data_sources' target='_blank' rel='noopener noreferrer'>Calendar data</a>,<a href='https://upgini.com/#data_sources' target='_blank' rel='noopener noreferrer'>Markets data</a></td><td class='upgini-text'>f_autofe_mul_af6d166b</td><td class='upgini-text'>f_events_date_week_cos3_7525fe31</td><td class='upgini-text'>f_financial_date_vix_7d_to_1y_634c77eb</td><td class='upgini-text'>*</td></tr><tr><td class='upgini-text'><a href='https://upgini.com/#data_sources' target='_blank' rel='noopener noreferrer'>Markets data</a></td><td class='upgini-text'>f_autofe_div_effd1e0b</td><td class='upgini-text'>f_financial_date_snp500_fdb64447</td><td class='upgini-text'>f_financial_date_usd_7d_to_1y_9cbe7ef8</td><td class='upgini-text'>/</td></tr><tr><td class='upgini-text'><a href='https://upgini.com/#data_sources' target='_blank' rel='noopener noreferrer'>Calendar data</a>,<a href='https://upgini.com/#data_sources' target='_blank' rel='noopener noreferrer'>Markets data</a></td><td class='upgini-text'>f_autofe_div_86414197</td><td class='upgini-text'>f_events_date_week_cos2_b0a07cfc</td><td class='upgini-text'>f_financial_date_usd_eur_7d_to_7d_1y_shift_05302176</td><td class='upgini-text'>/</td></tr><tr><td class='upgini-text'><a href='https://upgini.com/#data_sources' target='_blank' rel='noopener noreferrer'>Calendar data</a>,<a href='https://upgini.com/#data_sources' target='_blank' rel='noopener noreferrer'>Markets data</a></td><td class='upgini-text'>f_autofe_div_3a59c948</td><td class='upgini-text'>f_events_date_week_cos1_f6a8c1fc</td><td class='upgini-text'>f_financial_date_usd_eur_7d_to_7d_1y_shift_05302176</td><td class='upgini-text'>/</td></tr><tr><td class='upgini-text'><a href='https://upgini.com/#data_sources' target='_blank' rel='noopener noreferrer'>Calendar data</a></td><td class='upgini-text'>f_autofe_mul_5feff686</td><td class='upgini-text'>f_events_date_year_cos1_9014a856</td><td class='upgini-text'>f_events_date_year_cos2_7acbaf1b</td><td class='upgini-text'>*</td></tr><tr><td class='upgini-text'><a href='https://upgini.com/#data_sources' target='_blank' rel='noopener noreferrer'>Calendar data</a></td><td class='upgini-text'>f_autofe_mul_7fc70d87</td><td class='upgini-text'>f_events_date_week_cos1_f6a8c1fc</td><td class='upgini-text'>f_events_date_year_cos1_9014a856</td><td class='upgini-text'>*</td></tr><tr><td class='upgini-text'><a href='https://upgini.com/#data_sources' target='_blank' rel='noopener noreferrer'>Calendar data</a></td><td class='upgini-text'>f_autofe_mul_f018fe89</td><td class='upgini-text'>f_events_date_week_cos2_b0a07cfc</td><td class='upgini-text'>f_events_date_year_cos1_9014a856</td><td class='upgini-text'>*</td></tr><tr><td class='upgini-text'><a href='https://upgini.com/#data_sources' target='_blank' rel='noopener noreferrer'>Markets data</a></td><td class='upgini-text'>f_autofe_div_115af392</td><td class='upgini-text'>f_financial_date_stoxx_043cbcd4</td><td class='upgini-text'>f_financial_date_usd_eur_7d_to_7d_1y_shift_05302176</td><td class='upgini-text'>/</td></tr><tr><td class='upgini-text'><a href='https://upgini.com/#data_sources' target='_blank' rel='noopener noreferrer'>Calendar data</a>,<a href='https://upgini.com/#data_sources' target='_blank' rel='noopener noreferrer'>Markets data</a></td><td class='upgini-text'>f_autofe_mul_69439562</td><td class='upgini-text'>f_events_date_year_sin2_59955ffd</td><td class='upgini-text'>f_financial_date_gold_bf71e733</td><td class='upgini-text'>*</td></tr><tr><td class='upgini-text'><a href='https://upgini.com/#data_sources' target='_blank' rel='noopener noreferrer'>Markets data</a></td><td class='upgini-text'>f_autofe_mul_3a233471</td><td class='upgini-text'>f_financial_date_snp500_7d_to_7d_1y_shift_fa788602</td><td class='upgini-text'>f_financial_date_vix_7d_to_1y_634c77eb</td><td class='upgini-text'>*</td></tr><tr><td class='upgini-text'><a href='https://upgini.com/#data_sources' target='_blank' rel='noopener noreferrer'>Calendar data</a>,<a href='https://upgini.com/#data_sources' target='_blank' rel='noopener noreferrer'>Markets data</a></td><td class='upgini-text'>f_autofe_div_1d266053</td><td class='upgini-text'>f_events_date_week_cos3_7525fe31</td><td class='upgini-text'>f_financial_date_crude_oil_7d_to_1y_c3e0ad17</td><td class='upgini-text'>/</td></tr><tr><td class='upgini-text'><a href='https://upgini.com/#data_sources' target='_blank' rel='noopener noreferrer'>Calendar data</a></td><td class='upgini-text'>f_autofe_mul_a4d34ac2</td><td class='upgini-text'>f_events_date_year_cos5_59183b20</td><td class='upgini-text'>f_events_date_year_sin1_3c44bc64</td><td class='upgini-text'>*</td></tr><tr><td class='upgini-text'><a href='https://upgini.com/#data_sources' target='_blank' rel='noopener noreferrer'>Calendar data</a>,<a href='https://upgini.com/#data_sources' target='_blank' rel='noopener noreferrer'>Markets data</a></td><td class='upgini-text'>f_autofe_div_60e9ccbb</td><td class='upgini-text'>f_events_date_year_sin1_3c44bc64</td><td class='upgini-text'>f_financial_date_vix_7d_to_1y_634c77eb</td><td class='upgini-text'>/</td></tr><tr><td class='upgini-text'><a href='https://upgini.com/#data_sources' target='_blank' rel='noopener noreferrer'>Markets data</a></td><td class='upgini-text'>f_autofe_div_ff73d45e</td><td class='upgini-text'>f_financial_date_nasdaq_7d_to_1y_b00bfaa7</td><td class='upgini-text'>f_financial_date_stoxx_7d_to_1y_2ea815f4</td><td class='upgini-text'>/</td></tr><tr><td class='upgini-text'><a href='https://upgini.com/#data_sources' target='_blank' rel='noopener noreferrer'>Markets data</a></td><td class='upgini-text'>f_autofe_mul_4c9c7d0a</td><td class='upgini-text'>f_financial_date_natural_gas_7d_to_1y_7a6f300d</td><td class='upgini-text'>f_financial_date_silver_7d_to_7d_1y_shift_55fa8001</td><td class='upgini-text'>*</td></tr></tbody></table>\n",
              "        </div>\n",
              "        "
            ]
          },
          "metadata": {}
        },
        {
          "output_type": "stream",
          "name": "stdout",
          "text": [
            "\n",
            "WARNING: We detected 113 outliers in your sample.\n",
            "Examples of outliers with maximum value of target:\n",
            "84    205\n",
            "47    196\n",
            "38    187\n",
            "Name: target, dtype: int64\n",
            "Outliers will be excluded during the metrics calculation.\n",
            "Calculating accuracy uplift after enrichment...\n",
            "\n",
            "WARNING: y distributions from the training sample and eval_set differ according to the Kolmogorov-Smirnov test,\n",
            "which makes metrics between the train and eval_set incomparable.\n"
          ]
        },
        {
          "output_type": "display_data",
          "data": {
            "text/plain": [
              "<IPython.core.display.HTML object>"
            ],
            "text/html": [
              "<style>\n",
              "            .upgini-df thead th {\n",
              "                font-weight:bold;\n",
              "                text-align: center;\n",
              "                padding: 0.5em;\n",
              "                border-bottom: 2px solid black;\n",
              "            }\n",
              "\n",
              "            .upgini-df tbody td {\n",
              "                padding: 0.5em;\n",
              "            }\n",
              "\n",
              "            .upgini-df tbody tr:nth-child(odd) {\n",
              "                background-color: #ffffff;\n",
              "            }\n",
              "\n",
              "            .upgini-df tbody tr:nth-child(even) {\n",
              "                background-color: #f2f2f2;\n",
              "            }\n",
              "\n",
              "            .upgini-text {\n",
              "                text-align: left;\n",
              "            }\n",
              "\n",
              "            .upgini-number {\n",
              "                text-align: center;\n",
              "            }\n",
              "        </style>\n",
              "        <h2>Accuracy after enrichment</h2>\n",
              "        <div style=\"display:flex; flex-direction:column; align-items:flex-end; width: fit-content;\">\n",
              "            \n",
              "            <div style=\"text-align: right\">\n",
              "                <button onclick=navigator.clipboard.writeText(decodeURI('Dataset%20type%09Rows%09Mean%20target%09Baseline%20mean_squared_error%09Enriched%20mean_squared_error%09Uplift%0ATrain%0915213%0950.3977%09301.4671974484722%09190.42975779819616%09111.03743965027601%0AEval%201%093787%0959.2424%09486.03926062303583%09354.26667927610595%09131.77258134692988%0A'))>📂 Copy</button>\n",
              "                <a href='mailto:<Share with...>?subject=Relevant external data sources from Upgini.com&body=Dataset%20type%09Rows%09Mean%20target%09Baseline%20mean_squared_error%09Enriched%20mean_squared_error%09Uplift%0ATrain%0915213%0950.3977%09301.4671974484722%09190.42975779819616%09111.03743965027601%0AEval%201%093787%0959.2424%09486.03926062303583%09354.26667927610595%09131.77258134692988%0A'>\n",
              "                    <button>📨 Share</button>\n",
              "                </a>\n",
              "            </div>\n",
              "            <table class='upgini-df'><thead><th>Dataset type</th><th>Rows</th><th>Mean target</th><th>Baseline mean_squared_error</th><th>Enriched mean_squared_error</th><th>Uplift</th></thead><tbody><tr><td class='upgini-text'>Train</td><td class='upgini-number'>15213</td><td class='upgini-number'>50.3977</td><td class='upgini-number'>301.4672</td><td class='upgini-number'>190.4298</td><td class='upgini-number'>111.0374</td></tr><tr><td class='upgini-text'>Eval 1</td><td class='upgini-number'>3787</td><td class='upgini-number'>59.2424</td><td class='upgini-number'>486.0393</td><td class='upgini-number'>354.2667</td><td class='upgini-number'>131.7726</td></tr></tbody></table>\n",
              "        </div>\n",
              "        "
            ]
          },
          "metadata": {}
        },
        {
          "output_type": "display_data",
          "data": {
            "text/plain": [
              "<IPython.core.display.HTML object>"
            ],
            "text/html": [
              "<a download=\"upgini-report-9123f031-417c-4cbe-9932-949610017591.pdf\" href=\"data:application/pdf;base64,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\" target=\"_blank\">\n",
              "        <button>📊 Download PDF report</button></a>"
            ]
          },
          "metadata": {}
        }
      ]
    },
    {
      "cell_type": "code",
      "source": [],
      "metadata": {
        "id": "VE6GP20op9Hf"
      },
      "execution_count": null,
      "outputs": []
    },
    {
      "cell_type": "code",
      "source": [],
      "metadata": {
        "id": "QezNG_P1p9KC"
      },
      "execution_count": null,
      "outputs": []
    },
    {
      "cell_type": "code",
      "source": [],
      "metadata": {
        "id": "yYtRcGMQp9MO"
      },
      "execution_count": null,
      "outputs": []
    }
  ]
}